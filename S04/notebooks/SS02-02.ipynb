{
 "cells": [
  {
   "cell_type": "code",
   "execution_count": 27,
   "metadata": {},
   "outputs": [],
   "source": [
    "%matplotlib inline\n",
    "\n",
    "import zipfile\n",
    "import numpy as np\n",
    "import pylab as plt\n",
    "import pandas as pd\n",
    "\n",
    "from glob import glob"
   ]
  },
  {
   "cell_type": "code",
   "execution_count": 28,
   "metadata": {},
   "outputs": [],
   "source": [
    "# zip_ref = zipfile.ZipFile('../datasets/worldbank.zip', 'r')\n",
    "# zip_ref.extractall('../datasets/worldbank')\n",
    "# zip_ref = zipfile.ZipFile('../datasets/UN.zip', 'r')\n",
    "# zip_ref.extractall('../datasets/UN')"
   ]
  },
  {
   "cell_type": "code",
   "execution_count": null,
   "metadata": {},
   "outputs": [],
   "source": []
  },
  {
   "cell_type": "code",
   "execution_count": 2,
   "metadata": {},
   "outputs": [
    {
     "data": {
      "text/plain": [
       "['../supp/datasets/worldbank',\n",
       " '../supp/datasets/countries-of-the-world',\n",
       " '../supp/datasets/ubuntu-dialogue-corpus',\n",
       " '../supp/datasets/all-posts-public-main-chatroom',\n",
       " '../supp/datasets/south-park-dialogue',\n",
       " '../supp/datasets/UN']"
      ]
     },
     "execution_count": 2,
     "metadata": {},
     "output_type": "execute_result"
    }
   ],
   "source": [
    "glob('../supp/datasets/*')"
   ]
  },
  {
   "cell_type": "code",
   "execution_count": 3,
   "metadata": {},
   "outputs": [],
   "source": [
    "countries = ['Afghanistan', 'Albania',\n",
    "       'Algeria', 'Andorra', 'Angola', 'Anguilla', 'Antigua and Barbuda',\n",
    "       'Argentina', 'Armenia', 'Aruba', 'Australia', 'Austria',\n",
    "       'Azerbaijan', 'Bahamas', 'Bahrain', 'Bangladesh', 'Barbados',\n",
    "       'Belarus', 'Belgium', 'Belize', 'Benin', 'Bermuda', 'Bhutan',\n",
    "       'Bolivia (Plurin. State of)', 'Bosnia and Herzegovina', 'Botswana',\n",
    "       'Brazil', 'British Virgin Islands', 'Brunei Darussalam',\n",
    "       'Bulgaria', 'Burkina Faso', 'Burundi', 'Cabo Verde', 'Cambodia',\n",
    "       'Cameroon', 'Canada', 'Cayman Islands', 'Central African Republic',\n",
    "       'Chad', 'Chile', 'China', 'China, Hong Kong SAR',\n",
    "       'China, Macao SAR', 'Colombia', 'Comoros', 'Congo', 'Cook Islands',\n",
    "       'Costa Rica', 'Croatia', 'Cuba',\n",
    "       'Cyprus', 'Czechia', \"Dem. People's Rep. Korea\",\n",
    "       'Dem. Rep. of the Congo', 'Denmark', 'Djibouti', 'Dominica',\n",
    "       'Dominican Republic', 'Ecuador', 'Egypt', 'El Salvador',\n",
    "       'Equatorial Guinea', 'Eritrea', 'Estonia', 'Ethiopia',\n",
    "       'Falkland Islands (Malvinas)', 'Faroe Islands', 'Fiji', 'Finland',\n",
    "       'France', 'French Polynesia', 'Gabon', 'Gambia', 'Georgia',\n",
    "       'Germany', 'Ghana', 'Gibraltar', 'Greece', 'Greenland', 'Grenada',\n",
    "       'Guam', 'Guatemala', 'Guernsey', 'Guinea', 'Guinea-Bissau',\n",
    "       'Guyana', 'Haiti', 'Honduras', 'Hungary', 'Iceland', 'India',\n",
    "       'Indonesia', 'Iran (Islamic Republic of)', 'Iraq', 'Ireland',\n",
    "       'Israel', 'Italy', 'Jamaica', 'Japan', 'Jersey', 'Jordan',\n",
    "       'Kazakhstan', 'Kenya', 'Kiribati', 'Kuwait', 'Kyrgyzstan',\n",
    "       \"Lao People's Dem. Rep.\", 'Latvia', 'Lebanon', 'Lesotho',\n",
    "       'Liberia', 'Libya', 'Liechtenstein', 'Lithuania', 'Luxembourg',\n",
    "       'Madagascar', 'Malawi', 'Malaysia', 'Maldives', 'Mali', 'Malta',\n",
    "       'Marshall Islands', 'Mauritania', 'Mauritius', 'Mayotte', 'Mexico',\n",
    "       'Micronesia (Fed. States of)', 'Monaco', 'Mongolia', 'Montenegro',\n",
    "       'Montserrat', 'Morocco', 'Mozambique', 'Myanmar', 'Namibia',\n",
    "       'Nauru', 'Nepal', 'Netherlands', 'Netherlands Antilles [former]',\n",
    "       'New Caledonia', 'New Zealand', 'Nicaragua', 'Niger', 'Nigeria',\n",
    "       'Niue', 'North Macedonia', 'Norway', 'Oman',\n",
    "       'Other non-specified areas', 'Pakistan', 'Palau', 'Panama',\n",
    "       'Papua New Guinea', 'Paraguay', 'Peru', 'Philippines', 'Poland',\n",
    "       'Portugal', 'Puerto Rico', 'Qatar', 'Republic of Korea',\n",
    "       'Republic of Moldova', 'Réunion', 'Romania', 'Russian Federation',\n",
    "       'Rwanda', 'Saint Helena', 'Ascension', 'Saint Kitts and Nevis',\n",
    "       'Saint Lucia', 'Saint Vincent & Grenadines', 'Samoa', 'San Marino',\n",
    "       'Sao Tome and Principe', 'Saudi Arabia', 'Senegal', 'Serbia',\n",
    "       'Seychelles', 'Sierra Leone', 'Singapore', 'Slovakia', 'Slovenia',\n",
    "       'Solomon Islands', 'Somalia', 'South Africa', 'South Sudan',\n",
    "       'Spain', 'Sri Lanka', 'State of Palestine', 'Sudan', 'Suriname',\n",
    "       'Eswatini', 'Sweden', 'Switzerland', 'Syrian Arab Republic',\n",
    "       'Tajikistan', 'Thailand', 'Timor-Leste', 'Togo', 'Tokelau',\n",
    "       'Tonga', 'Trinidad and Tobago', 'Tunisia', 'Turkey',\n",
    "       'Turkmenistan', 'Tuvalu', 'Uganda', 'Ukraine',\n",
    "       'United Arab Emirates', 'United Kingdom',\n",
    "       'United Rep. of Tanzania', 'United States of America',\n",
    "       'United States Virgin Islands', 'Uruguay', 'Uzbekistan', 'Vanuatu',\n",
    "       'Venezuela (Boliv. Rep. of)', 'Viet Nam',\n",
    "       'Wallis and Futuna Islands', 'Yemen', 'Zambia', 'Zimbabwe']"
   ]
  },
  {
   "cell_type": "markdown",
   "metadata": {},
   "source": [
    "### Internet"
   ]
  },
  {
   "cell_type": "code",
   "execution_count": 4,
   "metadata": {},
   "outputs": [
    {
     "data": {
      "text/plain": [
       "Index(['Region/Country/Area', 'country', 'Year', 'Series', 'internetusage',\n",
       "       'Footnotes', 'Source'],\n",
       "      dtype='object')"
      ]
     },
     "execution_count": 4,
     "metadata": {},
     "output_type": "execute_result"
    }
   ],
   "source": [
    "filename = '../supp/datasets/UN/SYB62_T29_201904_Internet Usage.csv'\n",
    "df = pd.read_csv(filename,encoding='latin1',header=[1])\n",
    "df = df.rename(columns={'Unnamed: 1':'country','Value':'internetusage'})\n",
    "df = df[df['country'].isin(countries)]\n",
    "df.columns"
   ]
  },
  {
   "cell_type": "code",
   "execution_count": 5,
   "metadata": {},
   "outputs": [],
   "source": [
    "df_internet = df[['country', 'Year', 'internetusage']]\n",
    "del df"
   ]
  },
  {
   "cell_type": "markdown",
   "metadata": {},
   "source": [
    "### CPI"
   ]
  },
  {
   "cell_type": "code",
   "execution_count": 6,
   "metadata": {},
   "outputs": [
    {
     "data": {
      "text/plain": [
       "Index(['Region/Country/Area', 'country', 'Year', 'Series', 'Value',\n",
       "       'Footnotes', 'Source'],\n",
       "      dtype='object')"
      ]
     },
     "execution_count": 6,
     "metadata": {},
     "output_type": "execute_result"
    }
   ],
   "source": [
    "filename = '../supp/datasets/UN/SYB61_T19_Consumer Price Index.csv'\n",
    "df = pd.read_csv(filename,encoding='latin1',header=[1])\n",
    "df = df.rename(columns={'Unnamed: 1':'country'})\n",
    "df = df[df['country'].isin(countries)]\n",
    "df.columns"
   ]
  },
  {
   "cell_type": "code",
   "execution_count": 7,
   "metadata": {},
   "outputs": [],
   "source": [
    "dfp = df[['country', 'Year', 'Series', 'Value']]\n",
    "dfp1 = dfp[dfp['Series']=='Consumer price index: General']\n",
    "dfp1 = dfp1.rename(columns={'Value':'CPIG'})\n",
    "dfp1 = dfp1[['country', 'Year', 'CPIG']]\n",
    "\n",
    "dfp2 = dfp[dfp['Series']=='Consumer price index: Food']\n",
    "dfp2 = dfp2.rename(columns={'Value':'CPIF'})\n",
    "dfp2 = dfp2[['country', 'Year', 'CPIF']]\n",
    "\n",
    "dfcpi = dfp1.merge(dfp2,on=['country', 'Year'])\n",
    "del df,dfp,dfp1,dfp2"
   ]
  },
  {
   "cell_type": "markdown",
   "metadata": {},
   "source": [
    "### Imports and Exports "
   ]
  },
  {
   "cell_type": "code",
   "execution_count": 8,
   "metadata": {},
   "outputs": [
    {
     "data": {
      "text/plain": [
       "Index(['Region/Country/Area', 'country', 'Year', 'Series', 'System of trade',\n",
       "       'System of trade footnote', 'Value', 'Footnotes', 'Source'],\n",
       "      dtype='object')"
      ]
     },
     "execution_count": 8,
     "metadata": {},
     "output_type": "execute_result"
    }
   ],
   "source": [
    "filename = '../supp/datasets/UN/SYB61_T21_Total Imports, Exports and Balance of Trade.csv'\n",
    "df = pd.read_csv(filename,encoding='latin1',header=[1])\n",
    "df = df.rename(columns={'Unnamed: 1':'country'})\n",
    "df = df[df['country'].isin(countries)]\n",
    "df.columns"
   ]
  },
  {
   "cell_type": "code",
   "execution_count": 9,
   "metadata": {},
   "outputs": [],
   "source": [
    "dfp = df[['country', 'Year', 'Series', 'Value']]\n",
    "dfp1 = dfp[dfp['Series']=='Imports CIF (millions of US dollars)']\n",
    "dfp1 = dfp1.rename(columns={'Value':'Imports'})\n",
    "dfp1 = dfp1[['country', 'Year', 'Imports']]\n",
    "\n",
    "dfp2 = dfp[dfp['Series']=='Exports FOB (millions of US dollars)']\n",
    "dfp2 = dfp2.rename(columns={'Value':'Exports'})\n",
    "dfp2 = dfp2[['country', 'Year', 'Exports']]\n",
    "dfcpi\n",
    "dfimex = dfp1.merge(dfp2,on=['country', 'Year'])\n",
    "del df,dfp,dfp1,dfp2"
   ]
  },
  {
   "cell_type": "markdown",
   "metadata": {},
   "source": [
    "### Crime"
   ]
  },
  {
   "cell_type": "code",
   "execution_count": 10,
   "metadata": {},
   "outputs": [
    {
     "data": {
      "text/plain": [
       "Index(['Region/Country/Area', 'country', 'Year', 'Series', 'Value',\n",
       "       'Footnotes', 'Source'],\n",
       "      dtype='object')"
      ]
     },
     "execution_count": 10,
     "metadata": {},
     "output_type": "execute_result"
    }
   ],
   "source": [
    "filename = '../supp/datasets/UN/SYB62_T12_201904_Intentional homicides and Other Crimes.csv'\n",
    "df = pd.read_csv(filename,encoding='latin1',header=[1])\n",
    "df = df.rename(columns={'Unnamed: 1':'country'})\n",
    "df = df[df['country'].isin(countries)]\n",
    "df.columns"
   ]
  },
  {
   "cell_type": "code",
   "execution_count": 11,
   "metadata": {},
   "outputs": [],
   "source": [
    "df = df[df['Series']=='Intentional homicide rates per 100,000']\n",
    "df = df.rename(columns={'Value':'homicide'})\n",
    "dfcrime = df[['country', 'Year', 'homicide']]\n",
    "del df"
   ]
  },
  {
   "cell_type": "markdown",
   "metadata": {},
   "source": [
    "### Migrants and Refugees"
   ]
  },
  {
   "cell_type": "code",
   "execution_count": 12,
   "metadata": {},
   "outputs": [
    {
     "data": {
      "text/plain": [
       "Index(['Region/Country/Area', 'country', 'Year', 'Series', 'Value',\n",
       "       'Footnotes', 'Source'],\n",
       "      dtype='object')"
      ]
     },
     "execution_count": 12,
     "metadata": {},
     "output_type": "execute_result"
    }
   ],
   "source": [
    "filename = '../supp/datasets/UN/SYB61_T04_International Migrants and Refugees.csv'\n",
    "df = pd.read_csv(filename,encoding='latin1',header=[1])\n",
    "df = df.rename(columns={'Unnamed: 1':'country'})\n",
    "df = df[df['country'].isin(countries)]\n",
    "df.columns"
   ]
  },
  {
   "cell_type": "code",
   "execution_count": 13,
   "metadata": {},
   "outputs": [],
   "source": [
    "df = df[df['Series']=='International migrant stock: Both sexes (% total population)']\n",
    "df = df.rename(columns={'Value':'migrants'})\n",
    "dfmig = df[['country', 'Year', 'migrants']]\n",
    "del df"
   ]
  },
  {
   "cell_type": "markdown",
   "metadata": {},
   "source": [
    "### GDP and GDP Per Capita"
   ]
  },
  {
   "cell_type": "code",
   "execution_count": 14,
   "metadata": {},
   "outputs": [
    {
     "data": {
      "text/plain": [
       "Index(['Region/Country/Area', 'country', 'Year', 'Series', 'Value',\n",
       "       'Footnotes', 'Source'],\n",
       "      dtype='object')"
      ]
     },
     "execution_count": 14,
     "metadata": {},
     "output_type": "execute_result"
    }
   ],
   "source": [
    "filename = '../supp/datasets/UN/SYB62_T13_201904_GDP and GDP Per Capita.csv'\n",
    "df = pd.read_csv(filename,encoding='latin1',header=[1])\n",
    "df = df.rename(columns={'Unnamed: 1':'country'})\n",
    "df = df[df['country'].isin(countries)]\n",
    "df.columns"
   ]
  },
  {
   "cell_type": "code",
   "execution_count": 15,
   "metadata": {},
   "outputs": [],
   "source": [
    "dfp = df[['country', 'Year', 'Series', 'Value']]\n",
    "dfp1 = dfp[dfp['Series']=='GDP in current prices (millions of US dollars)']\n",
    "dfp1 = dfp1.rename(columns={'Value':'GDP'})\n",
    "dfp1 = dfp1[['country', 'Year', 'GDP']]\n",
    "\n",
    "dfp2 = dfp[dfp['Series']=='GDP per capita (US dollars)']\n",
    "dfp2 = dfp2.rename(columns={'Value':'PPP'})\n",
    "dfp2 = dfp2[['country', 'Year', 'PPP']]\n",
    "\n",
    "dfgdp = dfp1.merge(dfp2,on=['country', 'Year'])\n",
    "del df,dfp,dfp1,dfp2"
   ]
  },
  {
   "cell_type": "markdown",
   "metadata": {},
   "source": [
    "### Tourist-Visitors Arrival and Expenditure"
   ]
  },
  {
   "cell_type": "code",
   "execution_count": 16,
   "metadata": {},
   "outputs": [
    {
     "data": {
      "text/plain": [
       "Index(['Region/Country/Area', 'country', 'Year', 'Series',\n",
       "       'Tourism arrivals series type', 'Tourism arrivals series type footnote',\n",
       "       'Value', 'Footnotes', 'Source'],\n",
       "      dtype='object')"
      ]
     },
     "execution_count": 16,
     "metadata": {},
     "output_type": "execute_result"
    }
   ],
   "source": [
    "filename = '../supp/datasets/UN/SYB62_T30_201904_Tourist-Visitors Arrival and Expenditure.csv'\n",
    "df = pd.read_csv(filename,encoding='latin1',header=[1])\n",
    "df = df.rename(columns={'Unnamed: 1':'country'})\n",
    "df = df[df['country'].isin(countries)]\n",
    "df.columns"
   ]
  },
  {
   "cell_type": "code",
   "execution_count": 17,
   "metadata": {},
   "outputs": [],
   "source": [
    "dfp = df[['country', 'Year', 'Series', 'Value']]\n",
    "dfp1 = dfp[dfp['Series']=='Tourism expenditure (millions of US dollars)']\n",
    "dfp1 = dfp1.rename(columns={'Value':'tourexp'})\n",
    "dfp1 = dfp1[['country', 'Year', 'tourexp']]\n",
    "\n",
    "dfp2 = dfp[dfp['Series']=='Tourist/visitor arrivals (thousands)']\n",
    "dfp2 = dfp2.rename(columns={'Value':'tvarrival'})\n",
    "dfp2 = dfp2[['country', 'Year', 'tvarrival']]\n",
    "\n",
    "dftour = dfp1.merge(dfp2,on=['country', 'Year'])\n",
    "del df,dfp,dfp1,dfp2"
   ]
  },
  {
   "cell_type": "markdown",
   "metadata": {},
   "source": [
    "### Public Expenditure on Education"
   ]
  },
  {
   "cell_type": "code",
   "execution_count": 18,
   "metadata": {},
   "outputs": [
    {
     "data": {
      "text/plain": [
       "Index(['Region/Country/Area', 'country', 'Year', 'Series', 'Value',\n",
       "       'Footnotes', 'Source'],\n",
       "      dtype='object')"
      ]
     },
     "execution_count": 18,
     "metadata": {},
     "output_type": "execute_result"
    }
   ],
   "source": [
    "filename = '../supp/datasets/UN/SYB62_T09_201905_Public Expenditure on Education.csv'\n",
    "df = pd.read_csv(filename,encoding='latin1',header=[1])\n",
    "df = df.rename(columns={'Unnamed: 1':'country'})\n",
    "df = df[df['country'].isin(countries)]\n",
    "df.columns"
   ]
  },
  {
   "cell_type": "code",
   "execution_count": 19,
   "metadata": {},
   "outputs": [],
   "source": [
    "df = df[df['Series']=='Public expenditure on education (% of government expenditure)']\n",
    "df = df.rename(columns={'Value':'education'})\n",
    "dfedu = df[['country', 'Year', 'education']]\n",
    "del df"
   ]
  },
  {
   "cell_type": "markdown",
   "metadata": {},
   "source": [
    "### Index of industrial production"
   ]
  },
  {
   "cell_type": "code",
   "execution_count": 20,
   "metadata": {},
   "outputs": [
    {
     "data": {
      "text/plain": [
       "Index(['Region/Country/Area', 'country', 'Series', 'Year', 'Value',\n",
       "       'Footnotes', 'Source'],\n",
       "      dtype='object')"
      ]
     },
     "execution_count": 20,
     "metadata": {},
     "output_type": "execute_result"
    }
   ],
   "source": [
    "filename = '../supp/datasets/UN/SYB58_T25 Index of industrial production.csv'\n",
    "df = pd.read_csv(filename,encoding='latin1',header=[1])\n",
    "df = df.rename(columns={'Unnamed: 1':'country'})\n",
    "df = df[df['country'].isin(countries)]\n",
    "df.columns"
   ]
  },
  {
   "cell_type": "code",
   "execution_count": 21,
   "metadata": {},
   "outputs": [],
   "source": [
    "df = df[df['Series']=='Index of industrial production: Manufacturing (Index base: 2005=100)']\n",
    "df = df.rename(columns={'Value':'Manufacturing'})\n",
    "dfmanu = df[['country', 'Year', 'Manufacturing']]\n",
    "del df"
   ]
  },
  {
   "cell_type": "code",
   "execution_count": 22,
   "metadata": {},
   "outputs": [
    {
     "data": {
      "text/plain": [
       "(51, 15)"
      ]
     },
     "execution_count": 22,
     "metadata": {},
     "output_type": "execute_result"
    }
   ],
   "source": [
    "data_frames = [df_internet,dfcpi,dfimex,dfcrime,dfmig,dfgdp,dftour,dfedu,dfmanu]\n",
    "\n",
    "from functools import reduce\n",
    "df_merged = reduce(lambda  left,right: pd.merge(left,right,on=['country', 'Year'],\n",
    "                                            how='inner'), data_frames)\n",
    "cols = df_merged.loc[:, df_merged.dtypes == object].columns\n",
    "for i in cols:\n",
    "    df_merged[i] = df_merged[i].apply(lambda x: x.replace(',',''))\n",
    "df_merged.shape"
   ]
  },
  {
   "cell_type": "code",
   "execution_count": 23,
   "metadata": {},
   "outputs": [
    {
     "data": {
      "text/plain": [
       "Index(['country', 'Year', 'internetusage', 'CPIG', 'CPIF', 'Imports',\n",
       "       'Exports', 'homicide', 'migrants', 'GDP', 'PPP', 'tourexp', 'tvarrival',\n",
       "       'education', 'Manufacturing'],\n",
       "      dtype='object')"
      ]
     },
     "execution_count": 23,
     "metadata": {},
     "output_type": "execute_result"
    }
   ],
   "source": [
    "df_merged.columns"
   ]
  },
  {
   "cell_type": "code",
   "execution_count": 24,
   "metadata": {},
   "outputs": [
    {
     "data": {
      "text/plain": [
       "[<matplotlib.lines.Line2D at 0x7f70fd1a52b0>]"
      ]
     },
     "execution_count": 24,
     "metadata": {},
     "output_type": "execute_result"
    },
    {
     "data": {
      "image/png": "[encoded data removed]",
      "text/plain": [
       "<Figure size 432x288 with 1 Axes>"
      ]
     },
     "metadata": {
      "needs_background": "light"
     },
     "output_type": "display_data"
    }
   ],
   "source": [
    "x = df_merged['internetusage'].values.astype(float)\n",
    "y = df_merged['tvarrival'].values.astype(float)\n",
    "plt.plot(x,y,'.')\n",
    "# plt.xscale('log')\n",
    "# plt.yscale('log')"
   ]
  },
  {
   "cell_type": "code",
   "execution_count": 25,
   "metadata": {},
   "outputs": [
    {
     "data": {
      "text/plain": [
       "(451, 12)"
      ]
     },
     "execution_count": 25,
     "metadata": {},
     "output_type": "execute_result"
    }
   ],
   "source": [
    "data_frames = [df_internet,dfcpi,dfimex,dfmig,dfgdp,dftour]\n",
    "\n",
    "from functools import reduce\n",
    "df_merged = reduce(lambda  left,right: pd.merge(left,right,on=['country', 'Year'],\n",
    "                                            how='inner'), data_frames)\n",
    "cols = df_merged.loc[:, df_merged.dtypes == object].columns\n",
    "for i in cols:\n",
    "    df_merged[i] = df_merged[i].apply(lambda x: x.replace(',',''))\n",
    "df_merged.shape"
   ]
  },
  {
   "cell_type": "code",
   "execution_count": null,
   "metadata": {},
   "outputs": [],
   "source": []
  },
  {
   "cell_type": "code",
   "execution_count": null,
   "metadata": {},
   "outputs": [],
   "source": []
  },
  {
   "cell_type": "code",
   "execution_count": null,
   "metadata": {},
   "outputs": [],
   "source": []
  },
  {
   "cell_type": "code",
   "execution_count": null,
   "metadata": {},
   "outputs": [],
   "source": []
  },
  {
   "cell_type": "code",
   "execution_count": null,
   "metadata": {},
   "outputs": [],
   "source": []
  },
  {
   "cell_type": "code",
   "execution_count": null,
   "metadata": {},
   "outputs": [],
   "source": []
  },
  {
   "cell_type": "code",
   "execution_count": null,
   "metadata": {},
   "outputs": [],
   "source": []
  },
  {
   "cell_type": "code",
   "execution_count": null,
   "metadata": {},
   "outputs": [],
   "source": []
  },
  {
   "cell_type": "code",
   "execution_count": 26,
   "metadata": {},
   "outputs": [
    {
     "data": {
      "text/plain": [
       "['../supp/datasets/worldbank/API_EG.ELC.ACCS.ZS_DS2_en_csv_v2_10580107',\n",
       " '../supp/datasets/worldbank/API_SP.POP.TOTL_DS2_en_csv_v2_10576638',\n",
       " '../supp/datasets/worldbank/API_FP.CPI.TOTL.ZG_DS2_en_csv_v2_10643067',\n",
       " '../supp/datasets/worldbank/API_SP.DYN.CBRT.IN_DS2_en_csv_v2_10582963',\n",
       " '../supp/datasets/worldbank/API_SP.DYN.LE00.IN_DS2_en_csv_v2_10576744',\n",
       " '../supp/datasets/worldbank/API_SP.POP.TOTL.FE.ZS_DS2_en_csv_v2_10576694']"
      ]
     },
     "execution_count": 26,
     "metadata": {},
     "output_type": "execute_result"
    }
   ],
   "source": [
    "glob('../supp/datasets/worldbank/*')"
   ]
  },
  {
   "cell_type": "code",
   "execution_count": null,
   "metadata": {},
   "outputs": [],
   "source": []
  }
 ],
 "metadata": {
  "kernelspec": {
   "display_name": "Python 3",
   "language": "python",
   "name": "python3"
  },
  "language_info": {
   "codemirror_mode": {
    "name": "ipython",
    "version": 3
   },
   "file_extension": ".py",
   "mimetype": "text/x-python",
   "name": "python",
   "nbconvert_exporter": "python",
   "pygments_lexer": "ipython3",
   "version": "3.6.6"
  }
 },
 "nbformat": 4,
 "nbformat_minor": 2
}
