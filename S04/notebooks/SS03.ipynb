{
 "cells": [
  {
   "cell_type": "code",
   "execution_count": 4,
   "metadata": {},
   "outputs": [],
   "source": [
    "%matplotlib inline\n",
    "\n",
    "import zipfile\n",
    "import numpy as np\n",
    "import pylab as plt\n",
    "import pandas as pd"
   ]
  },
  {
   "cell_type": "code",
   "execution_count": 3,
   "metadata": {},
   "outputs": [],
   "source": [
    "zip_ref = zipfile.ZipFile('../datasets/south-park-dialogue.zip', 'r')\n",
    "zip_ref.extractall('../datasets/')"
   ]
  },
  {
   "cell_type": "code",
   "execution_count": 8,
   "metadata": {},
   "outputs": [],
   "source": [
    "dialogue = pd.read_csv('../datasets/south-park-dialogue/All-seasons.csv')"
   ]
  },
  {
   "cell_type": "code",
   "execution_count": 13,
   "metadata": {},
   "outputs": [],
   "source": [
    "stan = dialogue[dialogue['Character']=='Stan']['Line'].values"
   ]
  },
  {
   "cell_type": "code",
   "execution_count": 43,
   "metadata": {},
   "outputs": [],
   "source": [
    "stan_words = []\n",
    "for i in stan:\n",
    "    for j in i.split(' '):\n",
    "        if j!='\\n':\n",
    "            jp = j.replace('\\n','')\n",
    "            jp = jp.replace('?','')\n",
    "            jp = jp.replace('!','')\n",
    "            jp = jp.replace(',','')\n",
    "            jp = jp.replace('.','')\n",
    "            jp = jp.lower()\n",
    "            stan_words.append(jp)"
   ]
  },
  {
   "cell_type": "code",
   "execution_count": 44,
   "metadata": {},
   "outputs": [],
   "source": [
    "letters = 'bor'\n",
    "\n",
    "possibilities = []\n",
    "for i in stan_words:\n",
    "    if i.startswith(letters):\n",
    "        possibilities.append(i)"
   ]
  },
  {
   "cell_type": "code",
   "execution_count": 45,
   "metadata": {},
   "outputs": [],
   "source": [
    "poss,nums = np.unique(possibilities,return_counts=1)\n",
    "sorted_indices = np.argsort(nums)[::-1]"
   ]
  },
  {
   "cell_type": "code",
   "execution_count": 46,
   "metadata": {},
   "outputs": [
    {
     "data": {
      "text/plain": [
       "[('born', 4), ('boring', 4), ('borrow', 1), ('bored', 1), ('border', 1)]"
      ]
     },
     "execution_count": 46,
     "metadata": {},
     "output_type": "execute_result"
    }
   ],
   "source": [
    "list(zip(poss[sorted_indices],nums[sorted_indices]))"
   ]
  },
  {
   "cell_type": "code",
   "execution_count": 56,
   "metadata": {},
   "outputs": [],
   "source": [
    "# a_word = 'really'\n",
    "\n",
    "# possibilities = []\n",
    "# for i,s_word in enumerate(stan_words[:-1]):\n",
    "#     if s_word == a_word:\n",
    "#         possibilities.append(stan_words[i+1])\n",
    "        \n",
    "# poss,nums = np.unique(possibilities,return_counts=1)\n",
    "# sorted_indices = np.argsort(nums)[::-1]\n",
    "# list(zip(poss[sorted_indices],nums[sorted_indices]))"
   ]
  },
  {
   "cell_type": "code",
   "execution_count": 55,
   "metadata": {},
   "outputs": [],
   "source": [
    "# wrs,nms = np.unique(stan_words,return_counts=1)\n",
    "# sorted_indices = np.argsort(nms)[::-1]\n",
    "# list(zip(wrs[sorted_indices],nms[sorted_indices]))"
   ]
  },
  {
   "cell_type": "code",
   "execution_count": null,
   "metadata": {},
   "outputs": [],
   "source": []
  }
 ],
 "metadata": {
  "kernelspec": {
   "display_name": "Python 3",
   "language": "python",
   "name": "python3"
  },
  "language_info": {
   "codemirror_mode": {
    "name": "ipython",
    "version": 3
   },
   "file_extension": ".py",
   "mimetype": "text/x-python",
   "name": "python",
   "nbconvert_exporter": "python",
   "pygments_lexer": "ipython3",
   "version": "3.6.6"
  }
 },
 "nbformat": 4,
 "nbformat_minor": 2
}
