{
 "cells": [
  {
   "cell_type": "markdown",
   "metadata": {},
   "source": [
    "## Recurrent Neural Networks\n",
    "- Feedforward neural networks (e.g. MLPs and CNNs) are powerful, but they are not optimized to handle \"sequential\" data\n",
    "- In other words, they do not possess \"memory\" of previous inputs\n",
    "- For instance, consider the case of translating a corpus. You need to consider the **\"context\"** to guess the next word to come forward\n",
    "\n",
    "<br>\n",
    "- RNNs are suitable for dealing with sequential format data since they have **\"recurrent\"** structure\n",
    "- To put it differently, they keep the **\"memory\"** of earlier inputs in the sequence\n",
    "</br>\n",
    "<img src=\"http://www.wildml.com/wp-content/uploads/2015/09/rnn.jpg\" style=\"width: 600px\"/>\n",
    "\n",
    "<br>\n",
    "- However, in order to reduce the number of parameters, every layer of different time steps shares same parameters\n",
    "</br>\n",
    "\n",
    "<img src=\"http://colah.github.io/posts/2015-08-Understanding-LSTMs/img/RNN-unrolled.png\" style=\"width: 600px\"/>"
   ]
  },
  {
   "cell_type": "markdown",
   "metadata": {},
   "source": [
    "# Understanding RNN structure\n",
    "- Distinguished from feedforward nets, RNNs are structures that can well handle data with \"sequential\" format by preserving previous \"state\" \n",
    "- Thus, grasping concepts of **\"sequences\"** and (hidden) **\"states\"** in RNNs is crucial"
   ]
  },
  {
   "cell_type": "code",
   "execution_count": 1,
   "metadata": {},
   "outputs": [
    {
     "name": "stderr",
     "output_type": "stream",
     "text": [
      "Using TensorFlow backend.\n"
     ]
    }
   ],
   "source": [
    "import numpy as np\n",
    "from keras.models import Model, Sequential\n",
    "from keras.layers import *"
   ]
  },
  {
   "cell_type": "markdown",
   "metadata": {},
   "source": [
    "## 1. SimpleRNN \n",
    "\n",
    "Input shape of SimpleRNN should be 3D tensor => (batch_size, timesteps, input_dim)\n",
    "- **batch_size**: ommitted when creating RNN instance (== None). Usually designated when fitting model.\n",
    "- **timesteps**: number of input sequence per batch\n",
    "- **input_dim**: dimensionality of input sequence"
   ]
  },
  {
   "cell_type": "code",
   "execution_count": 4,
   "metadata": {},
   "outputs": [],
   "source": [
    "# for instance, consider below array\n",
    "x = np.array([[\n",
    "             [1,    # => input_dim 1\n",
    "              2,    # => input_dim 2 \n",
    "              3],   # => input_dim 3     # => timestep 1                            \n",
    "             [4, 5, 6]                   # => timestep 2\n",
    "             ],                                  # => batch 1\n",
    "             [[7, 8, 9], [10, 11, 12]],          # => batch 2\n",
    "             [[13, 14, 15], [16, 17, 18]]        # => batch 3\n",
    "             ])"
   ]
  },
  {
   "cell_type": "code",
   "execution_count": 5,
   "metadata": {},
   "outputs": [
    {
     "name": "stdout",
     "output_type": "stream",
     "text": [
      "(Batch size, timesteps, input_dim) =  (3, 2, 3)\n"
     ]
    }
   ],
   "source": [
    "print('(Batch size, timesteps, input_dim) = ',x.shape)"
   ]
  },
  {
   "cell_type": "code",
   "execution_count": 41,
   "metadata": {},
   "outputs": [],
   "source": [
    "x = np.random.normal(0,1,(100,5))\n",
    "y = 3*x"
   ]
  },
  {
   "cell_type": "code",
   "execution_count": 315,
   "metadata": {},
   "outputs": [
    {
     "name": "stdout",
     "output_type": "stream",
     "text": [
      "(1, 3)\n",
      "(3, 3)\n",
      "(3,)\n",
      "_________________________________________________________________\n",
      "Layer (type)                 Output Shape              Param #   \n",
      "=================================================================\n",
      "input_97 (InputLayer)        (None, 2, 1)              0         \n",
      "_________________________________________________________________\n",
      "simple_rnn_101 (SimpleRNN)   (None, 2, 3)              15        \n",
      "=================================================================\n",
      "Total params: 15\n",
      "Trainable params: 15\n",
      "Non-trainable params: 0\n",
      "_________________________________________________________________\n"
     ]
    }
   ],
   "source": [
    "def const_init(value):\n",
    "    def kk(shape):\n",
    "        print(shape)\n",
    "        return value*np.ones(shape)\n",
    "    return kk\n",
    "\n",
    "def random_init(shape):\n",
    "    print(shape)\n",
    "    return np.random.normal(0,1,shape)\n",
    "\n",
    "x = Input(shape = (2, 1))\n",
    "# x1 = SimpleRNN(3,activation='linear',\n",
    "#                kernel_initializer=k_init(3),\n",
    "#                recurrent_initializer=k_init(2),\n",
    "#                bias_initializer=k_init(0),\n",
    "#                return_sequences=1)(x)\n",
    "x1 = SimpleRNN(3,activation='tanh',\n",
    "               kernel_initializer=random_init,\n",
    "               recurrent_initializer=random_init,\n",
    "               bias_initializer=random_init,\n",
    "               return_sequences=1)(x)\n",
    "# rnn = GRU(4)(x)\n",
    "# rnn = LSTM(4)(x)\n",
    "\n",
    "model = Model(inputs=x,outputs=x1)\n",
    "model.summary()\n",
    "model.compile(optimizer='adam',loss='mse')"
   ]
  },
  {
   "cell_type": "code",
   "execution_count": 316,
   "metadata": {},
   "outputs": [],
   "source": [
    "from keras.backend import int_shape\n",
    "sh = int_shape(x)[1:]\n",
    "bsh = int_shape(x1)[-1]"
   ]
  },
  {
   "cell_type": "code",
   "execution_count": 317,
   "metadata": {},
   "outputs": [
    {
     "data": {
      "text/plain": [
       "array([[[-0.75832   ,  0.08595122, -0.5028327 ],\n",
       "        [-0.99885464,  0.6005186 , -0.7647044 ]]], dtype=float32)"
      ]
     },
     "execution_count": 317,
     "metadata": {},
     "output_type": "execute_result"
    }
   ],
   "source": [
    "X = np.random.normal(0,1,sh)\n",
    "x_in = np.expand_dims(X,0)\n",
    "model.predict(x_in)"
   ]
  },
  {
   "cell_type": "markdown",
   "metadata": {},
   "source": [
    "# $$y=\\sigma(X.W_{xh}+W_{hh}h_{t-1}+b)$$"
   ]
  },
  {
   "cell_type": "code",
   "execution_count": 318,
   "metadata": {},
   "outputs": [
    {
     "name": "stdout",
     "output_type": "stream",
     "text": [
      "[-0.75831992  0.08595121 -0.50283269]\n",
      "[-0.99885467  0.6005185  -0.76470438]\n"
     ]
    }
   ],
   "source": [
    "whx,whh,b = model.layers[1].get_weights()\n",
    "h = np.zeros(bsh)\n",
    "for i in range(sh[0]):\n",
    "#     print(X[i].shape,whx.shape,whh.shape,h.shape)\n",
    "    hn = np.tanh(np.dot(X[i],whx)+np.dot(whh.T,h)+b)\n",
    "    h = hn\n",
    "    print(h)\n",
    "# pred = hn\n",
    "# pred"
   ]
  },
  {
   "cell_type": "markdown",
   "metadata": {},
   "source": [
    "![](https://miro.medium.com/max/332/1*28XR1ajfW1WuTOkjpOc9xA.png)"
   ]
  },
  {
   "cell_type": "markdown",
   "metadata": {},
   "source": [
    "<img src=\"http://colah.github.io/posts/2015-08-Understanding-LSTMs/img/LSTM3-SimpleRNN.png\" style=\"width: 500px\"/>\n",
    "\n",
    "<center> Standard RNN </center>"
   ]
  },
  {
   "cell_type": "markdown",
   "metadata": {},
   "source": [
    "### trainable parameters: [h(h+i) + h]"
   ]
  },
  {
   "cell_type": "code",
   "execution_count": 83,
   "metadata": {},
   "outputs": [],
   "source": [
    "# input shape (batch_size, timesteps, input_dim)\n",
    "rnn = SimpleRNN(50)(Input(shape = (10, 30)))"
   ]
  },
  {
   "cell_type": "markdown",
   "metadata": {},
   "source": [
    "**return_sequences** = **False** ====> output_shape = **(batch_size = None, num_units)**"
   ]
  },
  {
   "cell_type": "code",
   "execution_count": 84,
   "metadata": {},
   "outputs": [
    {
     "name": "stdout",
     "output_type": "stream",
     "text": [
      "(?, 50)\n"
     ]
    }
   ],
   "source": [
    "rnn = SimpleRNN(50)(Input(shape = (10, 30)))\n",
    "print(rnn.shape)"
   ]
  },
  {
   "cell_type": "markdown",
   "metadata": {},
   "source": [
    "**return_sequences = True** ====> output_shape = **(batch_size, timesteps, num_units)**"
   ]
  },
  {
   "cell_type": "code",
   "execution_count": 85,
   "metadata": {},
   "outputs": [
    {
     "name": "stdout",
     "output_type": "stream",
     "text": [
      "(?, ?, 50)\n"
     ]
    }
   ],
   "source": [
    "rnn = SimpleRNN(50, return_sequences = True)(Input(shape = (10, 30)))\n",
    "print(rnn.shape)"
   ]
  },
  {
   "cell_type": "markdown",
   "metadata": {},
   "source": [
    "## 2. GRU\n",
    "- GRU, Popular variant of LSTM, does not have cell state\n",
    "- Hence, it has only hidden state, as simple RNN\n",
    "\n",
    "![](https://miro.medium.com/max/862/1*GSZ0ZQZPvcWmTVatAeOiIw.png)\n",
    "![](https://miro.medium.com/max/602/1*1HJUlwKMWmAkHhUkwy9g3g.png)"
   ]
  },
  {
   "cell_type": "code",
   "execution_count": 327,
   "metadata": {},
   "outputs": [
    {
     "name": "stdout",
     "output_type": "stream",
     "text": [
      "(?, 50)\n"
     ]
    }
   ],
   "source": [
    "gru = GRU(50)(Input(shape = (10, 30)))\n",
    "print(gru.shape)"
   ]
  },
  {
   "cell_type": "code",
   "execution_count": 329,
   "metadata": {},
   "outputs": [
    {
     "name": "stdout",
     "output_type": "stream",
     "text": [
      "(?, ?, 50)\n"
     ]
    }
   ],
   "source": [
    "output = GRU(50, return_sequences = True)(Input(shape = (10, 30)))\n",
    "print(output.shape)"
   ]
  },
  {
   "cell_type": "markdown",
   "metadata": {},
   "source": [
    "## 3. LSTM\n",
    "- Outputs of LSTM are quite similar to those of RNNs, but there exist subtle differences\n",
    "- If you compare two diagrams below, there is one more type of \"state\" that is preserved to next module"
   ]
  },
  {
   "cell_type": "markdown",
   "metadata": {},
   "source": [
    "![](https://miro.medium.com/max/1003/1*ZX2mVCwMIOhftEaf4FTOYQ.png)\n",
    "\n",
    "<br>\n",
    "<img src=\"http://colah.github.io/posts/2015-08-Understanding-LSTMs/img/LSTM3-chain.png\" style=\"width: 500px\"/>\n",
    "\n",
    "<center> LSTM </center>\n",
    "\n",
    "![](https://miro.medium.com/max/770/1*6vw1g-HNuOgRYPj-IGhddQ.png)"
   ]
  },
  {
   "cell_type": "markdown",
   "metadata": {},
   "source": [
    "In addition to \"hidden state (ht)\" in RNN, there exist \"cell state (Ct)\" in LSTM structure\n",
    "\n",
    "<br>\n",
    "<img src=\"http://colah.github.io/posts/2015-08-Understanding-LSTMs/img/LSTM3-focus-o.png\" style=\"width: 500px\"/>\n",
    "\n",
    "<center> Hidden State </center>\n",
    "\n",
    "<br>\n",
    "<img src=\"http://colah.github.io/posts/2015-08-Understanding-LSTMs/img/LSTM3-focus-C.png\" style=\"width: 500px\"/>\n",
    "\n",
    "<center> Cell State </center>"
   ]
  },
  {
   "cell_type": "code",
   "execution_count": 319,
   "metadata": {},
   "outputs": [],
   "source": [
    "lstm = LSTM(50)(Input(shape = (10, 30)))"
   ]
  },
  {
   "cell_type": "code",
   "execution_count": 320,
   "metadata": {},
   "outputs": [
    {
     "name": "stdout",
     "output_type": "stream",
     "text": [
      "(?, 50)\n"
     ]
    }
   ],
   "source": [
    "print(lstm.shape)"
   ]
  },
  {
   "cell_type": "code",
   "execution_count": 326,
   "metadata": {},
   "outputs": [
    {
     "name": "stdout",
     "output_type": "stream",
     "text": [
      "(?, ?, 50)\n"
     ]
    }
   ],
   "source": [
    "lstm = LSTM(50, return_sequences = True)(Input(shape = (10, 30)))\n",
    "print(lstm.shape)         # shape of output"
   ]
  },
  {
   "cell_type": "code",
   "execution_count": null,
   "metadata": {},
   "outputs": [],
   "source": []
  },
  {
   "cell_type": "code",
   "execution_count": null,
   "metadata": {},
   "outputs": [],
   "source": []
  },
  {
   "cell_type": "code",
   "execution_count": null,
   "metadata": {},
   "outputs": [],
   "source": []
  },
  {
   "cell_type": "code",
   "execution_count": null,
   "metadata": {},
   "outputs": [],
   "source": []
  },
  {
   "cell_type": "markdown",
   "metadata": {},
   "source": []
  },
  {
   "cell_type": "code",
   "execution_count": 90,
   "metadata": {},
   "outputs": [],
   "source": [
    "## Load Dataset"
   ]
  },
  {
   "cell_type": "code",
   "execution_count": 91,
   "metadata": {},
   "outputs": [],
   "source": [
    "import numpy as np\n",
    "\n",
    "from sklearn.metrics import accuracy_score\n",
    "from keras.datasets import reuters\n",
    "from keras.preprocessing.sequence import pad_sequences\n",
    "from keras.utils import to_categorical"
   ]
  },
  {
   "cell_type": "code",
   "execution_count": 92,
   "metadata": {},
   "outputs": [],
   "source": [
    "# parameters for data load\n",
    "num_words = 30000\n",
    "maxlen = 50\n",
    "test_split = 0.3"
   ]
  },
  {
   "cell_type": "code",
   "execution_count": 93,
   "metadata": {},
   "outputs": [
    {
     "name": "stdout",
     "output_type": "stream",
     "text": [
      "Downloading data from https://s3.amazonaws.com/text-datasets/reuters.npz\n",
      "2113536/2110848 [==============================] - 10s 5us/step\n"
     ]
    }
   ],
   "source": [
    "(X_train, y_train), (X_test, y_test) = reuters.load_data(num_words = num_words, maxlen = maxlen, test_split = test_split)"
   ]
  },
  {
   "cell_type": "code",
   "execution_count": 94,
   "metadata": {},
   "outputs": [],
   "source": [
    "# pad the sequences with zeros \n",
    "# padding parameter is set to 'post' => 0's are appended to end of sequences\n",
    "X_train = pad_sequences(X_train, padding = 'post')\n",
    "X_test = pad_sequences(X_test, padding = 'post')"
   ]
  },
  {
   "cell_type": "code",
   "execution_count": 95,
   "metadata": {},
   "outputs": [],
   "source": [
    "X_train = np.array(X_train).reshape((X_train.shape[0], X_train.shape[1], 1))\n",
    "X_test = np.array(X_test).reshape((X_test.shape[0], X_test.shape[1], 1))"
   ]
  },
  {
   "cell_type": "code",
   "execution_count": 96,
   "metadata": {},
   "outputs": [],
   "source": [
    "y_data = np.concatenate((y_train, y_test))\n",
    "y_data = to_categorical(y_data)"
   ]
  },
  {
   "cell_type": "code",
   "execution_count": 97,
   "metadata": {},
   "outputs": [],
   "source": [
    "y_train = y_data[:1395]\n",
    "y_test = y_data[1395:]"
   ]
  },
  {
   "cell_type": "code",
   "execution_count": 98,
   "metadata": {},
   "outputs": [
    {
     "name": "stdout",
     "output_type": "stream",
     "text": [
      "(1395, 49, 1)\n",
      "(599, 49, 1)\n",
      "(1395, 46)\n",
      "(599, 46)\n"
     ]
    }
   ],
   "source": [
    "print(X_train.shape)\n",
    "print(X_test.shape)\n",
    "print(y_train.shape)\n",
    "print(y_test.shape)"
   ]
  },
  {
   "cell_type": "markdown",
   "metadata": {},
   "source": [
    "## 1. Vanilla RNN\n",
    "- Vanilla RNNs have a simple structure\n",
    "- However, they suffer from the problem of \"long-term dependencies\"\n",
    "- Hence, they are not able to keep the **sequential memory\" for long\n",
    "\n",
    "<img src=\"http://colah.github.io/posts/2015-08-Understanding-LSTMs/img/LSTM3-SimpleRNN.png\" style=\"width: 600px\"/>"
   ]
  },
  {
   "cell_type": "code",
   "execution_count": 100,
   "metadata": {},
   "outputs": [],
   "source": [
    "from keras.models import Sequential\n",
    "from keras.layers import Dense, SimpleRNN, Activation\n",
    "from keras import optimizers\n",
    "from keras.wrappers.scikit_learn import KerasClassifier"
   ]
  },
  {
   "cell_type": "code",
   "execution_count": 101,
   "metadata": {},
   "outputs": [],
   "source": [
    "def vanilla_rnn():\n",
    "    model = Sequential()\n",
    "    model.add(SimpleRNN(50, input_shape = (49,1), return_sequences = False))\n",
    "    model.add(Dense(46))\n",
    "    model.add(Activation('softmax'))\n",
    "    \n",
    "    adam = optimizers.Adam(lr = 0.001)\n",
    "    model.compile(loss = 'categorical_crossentropy', optimizer = adam, metrics = ['accuracy'])\n",
    "    \n",
    "    return model"
   ]
  },
  {
   "cell_type": "code",
   "execution_count": 102,
   "metadata": {},
   "outputs": [],
   "source": [
    "model = KerasClassifier(build_fn = vanilla_rnn, epochs = 200, batch_size = 50, verbose = 1)"
   ]
  },
  {
   "cell_type": "code",
   "execution_count": 104,
   "metadata": {},
   "outputs": [
    {
     "data": {
      "text/plain": [
       "<keras.callbacks.History at 0x7facaf998748>"
      ]
     },
     "execution_count": 104,
     "metadata": {},
     "output_type": "execute_result"
    }
   ],
   "source": [
    "model.fit(X_train, y_train,verbose=0)"
   ]
  },
  {
   "cell_type": "code",
   "execution_count": 105,
   "metadata": {},
   "outputs": [
    {
     "name": "stdout",
     "output_type": "stream",
     "text": [
      "599/599 [==============================] - 0s 466us/step\n"
     ]
    }
   ],
   "source": [
    "y_pred = model.predict(X_test)"
   ]
  },
  {
   "cell_type": "code",
   "execution_count": 106,
   "metadata": {},
   "outputs": [],
   "source": [
    "y_test_ = np.argmax(y_test, axis = 1)"
   ]
  },
  {
   "cell_type": "code",
   "execution_count": 107,
   "metadata": {},
   "outputs": [
    {
     "name": "stdout",
     "output_type": "stream",
     "text": [
      "0.7562604340567612\n"
     ]
    }
   ],
   "source": [
    "print(accuracy_score(y_pred, y_test_))"
   ]
  },
  {
   "cell_type": "markdown",
   "metadata": {},
   "source": [
    "## 2. Stacked Vanilla RNN\n",
    "- RNN layers can be stacked to form a deeper network\n",
    "\n",
    "<img src=\"https://lh6.googleusercontent.com/rC1DSgjlmobtRxMPFi14hkMdDqSkEkuOX7EW_QrLFSymjasIM95Za2Wf-VwSC1Tq1sjJlOPLJ92q7PTKJh2hjBoXQawM6MQC27east67GFDklTalljlt0cFLZnPMdhp8erzO\" style=\"width: 500px\"/>"
   ]
  },
  {
   "cell_type": "code",
   "execution_count": 108,
   "metadata": {},
   "outputs": [],
   "source": [
    "def stacked_vanilla_rnn():\n",
    "    model = Sequential()\n",
    "    model.add(SimpleRNN(50, input_shape = (49,1), return_sequences = True))   # return_sequences parameter has to be set True to stack\n",
    "    model.add(SimpleRNN(50, return_sequences = False))\n",
    "    model.add(Dense(46))\n",
    "    model.add(Activation('softmax'))\n",
    "    \n",
    "    adam = optimizers.Adam(lr = 0.001)\n",
    "    model.compile(loss = 'categorical_crossentropy', optimizer = adam, metrics = ['accuracy'])\n",
    "    \n",
    "    return model"
   ]
  },
  {
   "cell_type": "code",
   "execution_count": 109,
   "metadata": {},
   "outputs": [],
   "source": [
    "model = KerasClassifier(build_fn = stacked_vanilla_rnn, epochs = 200, batch_size = 50, verbose = 1)"
   ]
  },
  {
   "cell_type": "code",
   "execution_count": 110,
   "metadata": {},
   "outputs": [
    {
     "data": {
      "text/plain": [
       "<keras.callbacks.History at 0x7facaf2e7588>"
      ]
     },
     "execution_count": 110,
     "metadata": {},
     "output_type": "execute_result"
    }
   ],
   "source": [
    "model.fit(X_train, y_train,verbose=0)"
   ]
  },
  {
   "cell_type": "code",
   "execution_count": 111,
   "metadata": {},
   "outputs": [
    {
     "name": "stdout",
     "output_type": "stream",
     "text": [
      "599/599 [==============================] - 0s 496us/step\n"
     ]
    }
   ],
   "source": [
    "y_pred = model.predict(X_test)"
   ]
  },
  {
   "cell_type": "code",
   "execution_count": 112,
   "metadata": {},
   "outputs": [
    {
     "name": "stdout",
     "output_type": "stream",
     "text": [
      "0.7378964941569283\n"
     ]
    }
   ],
   "source": [
    "print(accuracy_score(y_pred, y_test_))"
   ]
  },
  {
   "cell_type": "markdown",
   "metadata": {},
   "source": [
    "## 3. LSTM\n",
    "- LSTM (long short-term memory) is an improved structure to solve the problem of long-term dependencies\n",
    "\n",
    "<img src=\"http://colah.github.io/posts/2015-08-Understanding-LSTMs/img/LSTM3-chain.png\" style=\"width: 600px\"/>"
   ]
  },
  {
   "cell_type": "code",
   "execution_count": 113,
   "metadata": {},
   "outputs": [],
   "source": [
    "from keras.layers import LSTM"
   ]
  },
  {
   "cell_type": "code",
   "execution_count": 114,
   "metadata": {},
   "outputs": [],
   "source": [
    "def lstm():\n",
    "    model = Sequential()\n",
    "    model.add(LSTM(50, input_shape = (49,1), return_sequences = False))\n",
    "    model.add(Dense(46))\n",
    "    model.add(Activation('softmax'))\n",
    "    \n",
    "    adam = optimizers.Adam(lr = 0.001)\n",
    "    model.compile(loss = 'categorical_crossentropy', optimizer = adam, metrics = ['accuracy'])\n",
    "    \n",
    "    return model"
   ]
  },
  {
   "cell_type": "code",
   "execution_count": 115,
   "metadata": {},
   "outputs": [],
   "source": [
    "model = KerasClassifier(build_fn = lstm, epochs = 200, batch_size = 50, verbose = 1)"
   ]
  },
  {
   "cell_type": "code",
   "execution_count": 116,
   "metadata": {},
   "outputs": [
    {
     "data": {
      "text/plain": [
       "<keras.callbacks.History at 0x7facad3b45c0>"
      ]
     },
     "execution_count": 116,
     "metadata": {},
     "output_type": "execute_result"
    }
   ],
   "source": [
    "model.fit(X_train, y_train,verbose=0)"
   ]
  },
  {
   "cell_type": "code",
   "execution_count": 117,
   "metadata": {},
   "outputs": [
    {
     "name": "stdout",
     "output_type": "stream",
     "text": [
      "599/599 [==============================] - 0s 558us/step\n"
     ]
    }
   ],
   "source": [
    "y_pred = model.predict(X_test)"
   ]
  },
  {
   "cell_type": "code",
   "execution_count": 118,
   "metadata": {},
   "outputs": [
    {
     "name": "stdout",
     "output_type": "stream",
     "text": [
      "0.8464106844741235\n"
     ]
    }
   ],
   "source": [
    "# accuracy improves by adopting LSTM structure\n",
    "print(accuracy_score(y_pred, y_test_))"
   ]
  },
  {
   "cell_type": "markdown",
   "metadata": {},
   "source": [
    "## 4. Stacked LSTM\n",
    "- LSTM layers can be stacked as well"
   ]
  },
  {
   "cell_type": "code",
   "execution_count": 330,
   "metadata": {},
   "outputs": [],
   "source": [
    "def stacked_lstm():\n",
    "    model = Sequential()\n",
    "    model.add(LSTM(50, input_shape = (49,1), return_sequences = True))\n",
    "    model.add(LSTM(50, return_sequences = False))\n",
    "    model.add(Dense(46))\n",
    "    model.add(Activation('softmax'))\n",
    "    \n",
    "    adam = optimizers.Adam(lr = 0.001)\n",
    "    model.compile(loss = 'categorical_crossentropy', optimizer = adam, metrics = ['accuracy'])\n",
    "    \n",
    "    return model"
   ]
  },
  {
   "cell_type": "code",
   "execution_count": 331,
   "metadata": {},
   "outputs": [],
   "source": [
    "model = KerasClassifier(build_fn = stacked_lstm, epochs = 200, batch_size = 50, verbose = 1)"
   ]
  },
  {
   "cell_type": "code",
   "execution_count": 332,
   "metadata": {},
   "outputs": [
    {
     "name": "stdout",
     "output_type": "stream",
     "text": [
      "Epoch 1/200\n",
      "1395/1395 [==============================] - 3s 2ms/step - loss: 2.8715 - acc: 0.6516\n",
      "Epoch 2/200\n",
      "1395/1395 [==============================] - 2s 1ms/step - loss: 1.2543 - acc: 0.7147\n",
      "Epoch 3/200\n",
      "1395/1395 [==============================] - 1s 744us/step - loss: 1.1720 - acc: 0.7147\n",
      "Epoch 4/200\n",
      "1395/1395 [==============================] - 1s 740us/step - loss: 1.1618 - acc: 0.7147\n",
      "Epoch 5/200\n",
      "1395/1395 [==============================] - 1s 683us/step - loss: 1.1534 - acc: 0.7147\n",
      "Epoch 6/200\n",
      "1395/1395 [==============================] - 1s 745us/step - loss: 1.1342 - acc: 0.7147\n",
      "Epoch 7/200\n",
      "1395/1395 [==============================] - 1s 684us/step - loss: 1.0641 - acc: 0.7147\n",
      "Epoch 8/200\n",
      "1395/1395 [==============================] - 1s 740us/step - loss: 0.9246 - acc: 0.7541\n",
      "Epoch 9/200\n",
      "1395/1395 [==============================] - 2s 1ms/step - loss: 0.8889 - acc: 0.7849\n",
      "Epoch 10/200\n",
      "1395/1395 [==============================] - 2s 1ms/step - loss: 0.8463 - acc: 0.7935\n",
      "Epoch 11/200\n",
      "1395/1395 [==============================] - 2s 2ms/step - loss: 0.8385 - acc: 0.7871\n",
      "Epoch 12/200\n",
      "1395/1395 [==============================] - 2s 1ms/step - loss: 0.8316 - acc: 0.7935\n",
      "Epoch 13/200\n",
      "1395/1395 [==============================] - 2s 1ms/step - loss: 0.8397 - acc: 0.7885\n",
      "Epoch 14/200\n",
      "1395/1395 [==============================] - 2s 1ms/step - loss: 0.8186 - acc: 0.8043\n",
      "Epoch 15/200\n",
      "1395/1395 [==============================] - 2s 1ms/step - loss: 0.8040 - acc: 0.8022\n",
      "Epoch 16/200\n",
      "1395/1395 [==============================] - 2s 1ms/step - loss: 0.8441 - acc: 0.7900\n",
      "Epoch 17/200\n",
      "1395/1395 [==============================] - 2s 1ms/step - loss: 0.8376 - acc: 0.7950\n",
      "Epoch 18/200\n",
      "1395/1395 [==============================] - 2s 1ms/step - loss: 0.8223 - acc: 0.7986\n",
      "Epoch 19/200\n",
      "1395/1395 [==============================] - 1s 922us/step - loss: 0.8126 - acc: 0.7971\n",
      "Epoch 20/200\n",
      "1395/1395 [==============================] - 1s 913us/step - loss: 0.8021 - acc: 0.8043\n",
      "Epoch 21/200\n",
      "1395/1395 [==============================] - 1s 788us/step - loss: 0.7937 - acc: 0.8050\n",
      "Epoch 22/200\n",
      "1395/1395 [==============================] - 2s 1ms/step - loss: 0.7848 - acc: 0.8100\n",
      "Epoch 23/200\n",
      "1395/1395 [==============================] - 2s 2ms/step - loss: 0.7860 - acc: 0.8086\n",
      "Epoch 24/200\n",
      "1395/1395 [==============================] - 1s 1ms/step - loss: 0.7828 - acc: 0.8136\n",
      "Epoch 25/200\n",
      "1395/1395 [==============================] - 1s 936us/step - loss: 0.7969 - acc: 0.8158\n",
      "Epoch 26/200\n",
      "1395/1395 [==============================] - 2s 1ms/step - loss: 0.7754 - acc: 0.8158\n",
      "Epoch 27/200\n",
      "1395/1395 [==============================] - 2s 1ms/step - loss: 0.7635 - acc: 0.8222\n",
      "Epoch 28/200\n",
      "1395/1395 [==============================] - 1s 922us/step - loss: 0.7659 - acc: 0.8237\n",
      "Epoch 29/200\n",
      "1395/1395 [==============================] - 2s 2ms/step - loss: 0.7476 - acc: 0.8265\n",
      "Epoch 30/200\n",
      "1395/1395 [==============================] - 2s 1ms/step - loss: 0.7469 - acc: 0.8265\n",
      "Epoch 31/200\n",
      "1395/1395 [==============================] - 1s 1ms/step - loss: 0.7554 - acc: 0.8186\n",
      "Epoch 32/200\n",
      "1395/1395 [==============================] - 1s 898us/step - loss: 0.7350 - acc: 0.8294\n",
      "Epoch 33/200\n",
      "1395/1395 [==============================] - 1s 918us/step - loss: 0.7322 - acc: 0.8244\n",
      "Epoch 34/200\n",
      "1395/1395 [==============================] - 1s 898us/step - loss: 0.7371 - acc: 0.8272\n",
      "Epoch 35/200\n",
      "1395/1395 [==============================] - 1s 916us/step - loss: 0.7338 - acc: 0.8280\n",
      "Epoch 36/200\n",
      "1395/1395 [==============================] - 2s 1ms/step - loss: 0.7302 - acc: 0.8287\n",
      "Epoch 37/200\n",
      "1395/1395 [==============================] - 2s 1ms/step - loss: 0.7186 - acc: 0.8308\n",
      "Epoch 38/200\n",
      "1395/1395 [==============================] - 1s 858us/step - loss: 0.7133 - acc: 0.8294\n",
      "Epoch 39/200\n",
      "1395/1395 [==============================] - 1s 1ms/step - loss: 0.7140 - acc: 0.8301\n",
      "Epoch 40/200\n",
      "1395/1395 [==============================] - 2s 1ms/step - loss: 0.7282 - acc: 0.8272\n",
      "Epoch 41/200\n",
      "1395/1395 [==============================] - 2s 1ms/step - loss: 0.7026 - acc: 0.8294\n",
      "Epoch 42/200\n",
      "1395/1395 [==============================] - 3s 2ms/step - loss: 0.7078 - acc: 0.8301\n",
      "Epoch 43/200\n",
      "1395/1395 [==============================] - 2s 1ms/step - loss: 0.7166 - acc: 0.8201\n",
      "Epoch 44/200\n",
      "1395/1395 [==============================] - 1s 815us/step - loss: 0.6808 - acc: 0.8344\n",
      "Epoch 45/200\n",
      "1395/1395 [==============================] - 1s 889us/step - loss: 0.6963 - acc: 0.8344\n",
      "Epoch 46/200\n",
      "1395/1395 [==============================] - 1s 827us/step - loss: 0.6980 - acc: 0.8315\n",
      "Epoch 47/200\n",
      "1395/1395 [==============================] - 1s 924us/step - loss: 0.7203 - acc: 0.8244\n",
      "Epoch 48/200\n",
      "1395/1395 [==============================] - 1s 802us/step - loss: 0.7144 - acc: 0.8258\n",
      "Epoch 49/200\n",
      "1395/1395 [==============================] - 1s 838us/step - loss: 0.6867 - acc: 0.8308\n",
      "Epoch 50/200\n",
      "1395/1395 [==============================] - 1s 786us/step - loss: 0.6831 - acc: 0.8330\n",
      "Epoch 51/200\n",
      "1395/1395 [==============================] - 1s 856us/step - loss: 0.7077 - acc: 0.8251\n",
      "Epoch 52/200\n",
      "1395/1395 [==============================] - 1s 880us/step - loss: 0.6878 - acc: 0.8315\n",
      "Epoch 53/200\n",
      "1395/1395 [==============================] - 1s 807us/step - loss: 0.6832 - acc: 0.8265\n",
      "Epoch 54/200\n",
      "1395/1395 [==============================] - 1s 943us/step - loss: 0.6831 - acc: 0.8315\n",
      "Epoch 55/200\n",
      "1395/1395 [==============================] - 1s 845us/step - loss: 0.6661 - acc: 0.8323\n",
      "Epoch 56/200\n",
      "1395/1395 [==============================] - 1s 924us/step - loss: 0.6667 - acc: 0.8344\n",
      "Epoch 57/200\n",
      "1395/1395 [==============================] - 1s 841us/step - loss: 0.6651 - acc: 0.8330\n",
      "Epoch 58/200\n",
      "1395/1395 [==============================] - 1s 854us/step - loss: 0.6831 - acc: 0.8315\n",
      "Epoch 59/200\n",
      "1395/1395 [==============================] - 1s 964us/step - loss: 0.6778 - acc: 0.8315\n",
      "Epoch 60/200\n",
      "1395/1395 [==============================] - 1s 909us/step - loss: 0.6676 - acc: 0.8315\n",
      "Epoch 61/200\n",
      "1395/1395 [==============================] - 1s 917us/step - loss: 0.6585 - acc: 0.8344\n",
      "Epoch 62/200\n",
      "1395/1395 [==============================] - 1s 837us/step - loss: 0.6646 - acc: 0.8294\n",
      "Epoch 63/200\n",
      "1395/1395 [==============================] - 1s 860us/step - loss: 0.6573 - acc: 0.8330\n",
      "Epoch 64/200\n",
      "1395/1395 [==============================] - 1s 831us/step - loss: 0.6681 - acc: 0.8330\n",
      "Epoch 65/200\n",
      "1395/1395 [==============================] - 1s 871us/step - loss: 0.6622 - acc: 0.8330\n",
      "Epoch 66/200\n",
      "1395/1395 [==============================] - 1s 855us/step - loss: 0.6448 - acc: 0.8380\n",
      "Epoch 67/200\n",
      "1395/1395 [==============================] - 2s 1ms/step - loss: 0.6423 - acc: 0.8380\n",
      "Epoch 68/200\n",
      "1395/1395 [==============================] - 1s 1ms/step - loss: 0.6539 - acc: 0.8358\n",
      "Epoch 69/200\n",
      "1395/1395 [==============================] - 1s 845us/step - loss: 0.6439 - acc: 0.8380\n",
      "Epoch 70/200\n",
      "1395/1395 [==============================] - 1s 956us/step - loss: 0.6249 - acc: 0.8459\n",
      "Epoch 71/200\n",
      "1395/1395 [==============================] - 1s 1ms/step - loss: 0.6513 - acc: 0.8358\n",
      "Epoch 72/200\n",
      "1395/1395 [==============================] - 2s 1ms/step - loss: 0.6703 - acc: 0.8373\n",
      "Epoch 73/200\n",
      "1395/1395 [==============================] - 1s 867us/step - loss: 0.6705 - acc: 0.8272\n",
      "Epoch 74/200\n",
      "1395/1395 [==============================] - 1s 986us/step - loss: 0.6449 - acc: 0.8409\n",
      "Epoch 75/200\n",
      "1395/1395 [==============================] - 2s 1ms/step - loss: 0.6251 - acc: 0.8423\n",
      "Epoch 76/200\n",
      "1395/1395 [==============================] - 2s 1ms/step - loss: 0.6091 - acc: 0.8487\n",
      "Epoch 77/200\n",
      "1395/1395 [==============================] - 2s 2ms/step - loss: 0.6066 - acc: 0.8523\n",
      "Epoch 78/200\n",
      "1395/1395 [==============================] - 2s 2ms/step - loss: 0.5972 - acc: 0.8566\n",
      "Epoch 79/200\n",
      "1395/1395 [==============================] - 2s 2ms/step - loss: 0.5925 - acc: 0.8602\n",
      "Epoch 80/200\n",
      "1395/1395 [==============================] - 2s 1ms/step - loss: 0.5877 - acc: 0.8545\n",
      "Epoch 81/200\n",
      "1395/1395 [==============================] - 2s 1ms/step - loss: 0.5787 - acc: 0.8602\n",
      "Epoch 82/200\n",
      "1395/1395 [==============================] - 2s 2ms/step - loss: 0.5686 - acc: 0.8616\n"
     ]
    },
    {
     "name": "stdout",
     "output_type": "stream",
     "text": [
      "Epoch 83/200\n",
      "1395/1395 [==============================] - 2s 1ms/step - loss: 0.5688 - acc: 0.8638\n",
      "Epoch 84/200\n",
      "1395/1395 [==============================] - 1s 857us/step - loss: 0.5669 - acc: 0.8581\n",
      "Epoch 85/200\n",
      "1395/1395 [==============================] - 1s 840us/step - loss: 0.5555 - acc: 0.8659\n",
      "Epoch 86/200\n",
      "1395/1395 [==============================] - 1s 961us/step - loss: 0.5772 - acc: 0.8523\n",
      "Epoch 87/200\n",
      "1395/1395 [==============================] - 1s 913us/step - loss: 0.5552 - acc: 0.8674\n",
      "Epoch 88/200\n",
      "1395/1395 [==============================] - 1s 952us/step - loss: 0.5344 - acc: 0.8674\n",
      "Epoch 89/200\n",
      "1395/1395 [==============================] - 1s 856us/step - loss: 0.5253 - acc: 0.8703\n",
      "Epoch 90/200\n",
      "1395/1395 [==============================] - 1s 775us/step - loss: 0.5246 - acc: 0.8688\n",
      "Epoch 91/200\n",
      "1395/1395 [==============================] - 1s 922us/step - loss: 0.5444 - acc: 0.8659\n",
      "Epoch 92/200\n",
      "1395/1395 [==============================] - 1s 905us/step - loss: 0.5182 - acc: 0.8731\n",
      "Epoch 93/200\n",
      "1395/1395 [==============================] - 1s 933us/step - loss: 0.5146 - acc: 0.8724\n",
      "Epoch 94/200\n",
      "1395/1395 [==============================] - 1s 839us/step - loss: 0.5120 - acc: 0.8731\n",
      "Epoch 95/200\n",
      "1395/1395 [==============================] - 1s 896us/step - loss: 0.5190 - acc: 0.8738\n",
      "Epoch 96/200\n",
      "1395/1395 [==============================] - 1s 891us/step - loss: 0.5352 - acc: 0.8645\n",
      "Epoch 97/200\n",
      "1395/1395 [==============================] - 1s 895us/step - loss: 0.5553 - acc: 0.8602\n",
      "Epoch 98/200\n",
      "1395/1395 [==============================] - 1s 988us/step - loss: 0.5482 - acc: 0.8724\n",
      "Epoch 99/200\n",
      "1395/1395 [==============================] - 1s 850us/step - loss: 0.5195 - acc: 0.8717\n",
      "Epoch 100/200\n",
      "1395/1395 [==============================] - 1s 969us/step - loss: 0.5119 - acc: 0.8674\n",
      "Epoch 101/200\n",
      "1395/1395 [==============================] - 1s 897us/step - loss: 0.4979 - acc: 0.8731\n",
      "Epoch 102/200\n",
      "1395/1395 [==============================] - 1s 902us/step - loss: 0.4874 - acc: 0.8738\n",
      "Epoch 103/200\n",
      "1395/1395 [==============================] - 1s 937us/step - loss: 0.4752 - acc: 0.8781\n",
      "Epoch 104/200\n",
      "1395/1395 [==============================] - 1s 858us/step - loss: 0.4776 - acc: 0.8817\n",
      "Epoch 105/200\n",
      "1395/1395 [==============================] - 1s 943us/step - loss: 0.4754 - acc: 0.8767\n",
      "Epoch 106/200\n",
      "1395/1395 [==============================] - 1s 847us/step - loss: 0.4771 - acc: 0.8817\n",
      "Epoch 107/200\n",
      "1395/1395 [==============================] - 1s 882us/step - loss: 0.4974 - acc: 0.8710\n",
      "Epoch 108/200\n",
      "1395/1395 [==============================] - 1s 841us/step - loss: 0.4733 - acc: 0.8817\n",
      "Epoch 109/200\n",
      "1395/1395 [==============================] - 1s 938us/step - loss: 0.4864 - acc: 0.8767\n",
      "Epoch 110/200\n",
      "1395/1395 [==============================] - 1s 930us/step - loss: 0.4756 - acc: 0.8724\n",
      "Epoch 111/200\n",
      "1395/1395 [==============================] - 1s 900us/step - loss: 0.4563 - acc: 0.8832\n",
      "Epoch 112/200\n",
      "1395/1395 [==============================] - 1s 937us/step - loss: 0.4424 - acc: 0.8824\n",
      "Epoch 113/200\n",
      "1395/1395 [==============================] - 1s 900us/step - loss: 0.4397 - acc: 0.8810\n",
      "Epoch 114/200\n",
      "1395/1395 [==============================] - 1s 927us/step - loss: 0.4574 - acc: 0.8796\n",
      "Epoch 115/200\n",
      "1395/1395 [==============================] - 1s 964us/step - loss: 0.4571 - acc: 0.8789\n",
      "Epoch 116/200\n",
      "1395/1395 [==============================] - 1s 971us/step - loss: 0.4385 - acc: 0.8903\n",
      "Epoch 117/200\n",
      "1395/1395 [==============================] - 1s 976us/step - loss: 0.4328 - acc: 0.8875\n",
      "Epoch 118/200\n",
      "1395/1395 [==============================] - 1s 908us/step - loss: 0.4206 - acc: 0.8903\n",
      "Epoch 119/200\n",
      "1395/1395 [==============================] - 1s 884us/step - loss: 0.4326 - acc: 0.8875\n",
      "Epoch 120/200\n",
      "1395/1395 [==============================] - 1s 998us/step - loss: 0.4655 - acc: 0.8810\n",
      "Epoch 121/200\n",
      "1395/1395 [==============================] - 1s 1ms/step - loss: 0.4789 - acc: 0.8767\n",
      "Epoch 122/200\n",
      "1395/1395 [==============================] - 1s 922us/step - loss: 0.4301 - acc: 0.8882\n",
      "Epoch 123/200\n",
      "1395/1395 [==============================] - 1s 783us/step - loss: 0.4184 - acc: 0.8910\n",
      "Epoch 124/200\n",
      "1395/1395 [==============================] - 1s 830us/step - loss: 0.4126 - acc: 0.8910\n",
      "Epoch 125/200\n",
      "1395/1395 [==============================] - 1s 812us/step - loss: 0.4051 - acc: 0.8946\n",
      "Epoch 126/200\n",
      "1395/1395 [==============================] - 1s 916us/step - loss: 0.3887 - acc: 0.9025\n",
      "Epoch 127/200\n",
      "1395/1395 [==============================] - 1s 795us/step - loss: 0.4067 - acc: 0.8975\n",
      "Epoch 128/200\n",
      "1395/1395 [==============================] - 1s 834us/step - loss: 0.3860 - acc: 0.8989\n",
      "Epoch 129/200\n",
      "1395/1395 [==============================] - 1s 870us/step - loss: 0.3847 - acc: 0.9004\n",
      "Epoch 130/200\n",
      "1395/1395 [==============================] - 1s 800us/step - loss: 0.4165 - acc: 0.8882\n",
      "Epoch 131/200\n",
      "1395/1395 [==============================] - 1s 878us/step - loss: 0.3819 - acc: 0.8996\n",
      "Epoch 132/200\n",
      "1395/1395 [==============================] - 1s 919us/step - loss: 0.3802 - acc: 0.8953\n",
      "Epoch 133/200\n",
      "1395/1395 [==============================] - 1s 937us/step - loss: 0.3919 - acc: 0.8953\n",
      "Epoch 134/200\n",
      "1395/1395 [==============================] - 1s 865us/step - loss: 0.3854 - acc: 0.9025\n",
      "Epoch 135/200\n",
      "1395/1395 [==============================] - 1s 916us/step - loss: 0.3692 - acc: 0.9047\n",
      "Epoch 136/200\n",
      "1395/1395 [==============================] - 1s 798us/step - loss: 0.3744 - acc: 0.8975\n",
      "Epoch 137/200\n",
      "1395/1395 [==============================] - 1s 917us/step - loss: 0.4172 - acc: 0.8910\n",
      "Epoch 138/200\n",
      "1395/1395 [==============================] - 1s 895us/step - loss: 0.4031 - acc: 0.8925\n",
      "Epoch 139/200\n",
      "1395/1395 [==============================] - 1s 912us/step - loss: 0.3841 - acc: 0.9011\n",
      "Epoch 140/200\n",
      "1395/1395 [==============================] - 1s 921us/step - loss: 0.3783 - acc: 0.9004\n",
      "Epoch 141/200\n",
      "1395/1395 [==============================] - 1s 806us/step - loss: 0.3635 - acc: 0.9039\n",
      "Epoch 142/200\n",
      "1395/1395 [==============================] - 1s 833us/step - loss: 0.3708 - acc: 0.9075\n",
      "Epoch 143/200\n",
      "1395/1395 [==============================] - 1s 808us/step - loss: 0.3588 - acc: 0.9082\n",
      "Epoch 144/200\n",
      "1395/1395 [==============================] - 1s 865us/step - loss: 0.3413 - acc: 0.9090\n",
      "Epoch 145/200\n",
      "1395/1395 [==============================] - 1s 809us/step - loss: 0.3449 - acc: 0.9147\n",
      "Epoch 146/200\n",
      "1395/1395 [==============================] - 1s 875us/step - loss: 0.3450 - acc: 0.9090\n",
      "Epoch 147/200\n",
      "1395/1395 [==============================] - 1s 868us/step - loss: 0.3545 - acc: 0.9039\n",
      "Epoch 148/200\n",
      "1395/1395 [==============================] - 1s 846us/step - loss: 0.3596 - acc: 0.9039\n",
      "Epoch 149/200\n",
      "1395/1395 [==============================] - 1s 894us/step - loss: 0.3572 - acc: 0.9082\n",
      "Epoch 150/200\n",
      "1395/1395 [==============================] - 1s 894us/step - loss: 0.3497 - acc: 0.9068\n",
      "Epoch 151/200\n",
      "1395/1395 [==============================] - 1s 859us/step - loss: 0.3371 - acc: 0.9161\n",
      "Epoch 152/200\n",
      "1395/1395 [==============================] - 1s 934us/step - loss: 0.3255 - acc: 0.9133\n",
      "Epoch 153/200\n",
      "1395/1395 [==============================] - 1s 930us/step - loss: 0.3157 - acc: 0.9197\n",
      "Epoch 154/200\n",
      "1395/1395 [==============================] - 1s 807us/step - loss: 0.3219 - acc: 0.9183\n",
      "Epoch 155/200\n",
      "1395/1395 [==============================] - 1s 918us/step - loss: 0.3388 - acc: 0.9075\n",
      "Epoch 156/200\n",
      "1395/1395 [==============================] - 1s 969us/step - loss: 0.3742 - acc: 0.9147\n",
      "Epoch 157/200\n",
      "1395/1395 [==============================] - 1s 899us/step - loss: 0.5838 - acc: 0.8566\n",
      "Epoch 158/200\n",
      "1395/1395 [==============================] - 1s 881us/step - loss: 0.5102 - acc: 0.8581\n",
      "Epoch 159/200\n",
      "1395/1395 [==============================] - 1s 822us/step - loss: 0.5178 - acc: 0.8659\n",
      "Epoch 160/200\n",
      "1395/1395 [==============================] - 1s 910us/step - loss: 0.5050 - acc: 0.8667\n",
      "Epoch 161/200\n",
      "1395/1395 [==============================] - 1s 982us/step - loss: 0.4523 - acc: 0.8746\n",
      "Epoch 162/200\n",
      "1395/1395 [==============================] - 1s 971us/step - loss: 0.4324 - acc: 0.8839\n",
      "Epoch 163/200\n"
     ]
    },
    {
     "name": "stdout",
     "output_type": "stream",
     "text": [
      "1395/1395 [==============================] - 1s 889us/step - loss: 0.4065 - acc: 0.8896\n",
      "Epoch 164/200\n",
      "1395/1395 [==============================] - 1s 833us/step - loss: 0.4387 - acc: 0.8817\n",
      "Epoch 165/200\n",
      "1395/1395 [==============================] - 1s 827us/step - loss: 0.4340 - acc: 0.8789\n",
      "Epoch 166/200\n",
      "1395/1395 [==============================] - 1s 781us/step - loss: 0.4074 - acc: 0.8903\n",
      "Epoch 167/200\n",
      "1395/1395 [==============================] - 1s 833us/step - loss: 0.3831 - acc: 0.8925\n",
      "Epoch 168/200\n",
      "1395/1395 [==============================] - 1s 776us/step - loss: 0.3796 - acc: 0.8989\n",
      "Epoch 169/200\n",
      "1395/1395 [==============================] - 1s 986us/step - loss: 0.3620 - acc: 0.8996\n",
      "Epoch 170/200\n",
      "1395/1395 [==============================] - 1s 872us/step - loss: 0.3511 - acc: 0.9068\n",
      "Epoch 171/200\n",
      "1395/1395 [==============================] - 1s 896us/step - loss: 0.3366 - acc: 0.9140\n",
      "Epoch 172/200\n",
      "1395/1395 [==============================] - 1s 931us/step - loss: 0.3291 - acc: 0.9168\n",
      "Epoch 173/200\n",
      "1395/1395 [==============================] - 1s 951us/step - loss: 0.3381 - acc: 0.9075\n",
      "Epoch 174/200\n",
      "1395/1395 [==============================] - 1s 857us/step - loss: 0.3331 - acc: 0.9090\n",
      "Epoch 175/200\n",
      "1395/1395 [==============================] - 1s 824us/step - loss: 0.3388 - acc: 0.9061\n",
      "Epoch 176/200\n",
      "1395/1395 [==============================] - 1s 980us/step - loss: 0.3213 - acc: 0.9168\n",
      "Epoch 177/200\n",
      "1395/1395 [==============================] - 1s 977us/step - loss: 0.3150 - acc: 0.9154\n",
      "Epoch 178/200\n",
      "1395/1395 [==============================] - 1s 804us/step - loss: 0.3074 - acc: 0.9183\n",
      "Epoch 179/200\n",
      "1395/1395 [==============================] - 1s 869us/step - loss: 0.3041 - acc: 0.9190\n",
      "Epoch 180/200\n",
      "1395/1395 [==============================] - 1s 835us/step - loss: 0.3034 - acc: 0.9168\n",
      "Epoch 181/200\n",
      "1395/1395 [==============================] - 1s 875us/step - loss: 0.3011 - acc: 0.9197\n",
      "Epoch 182/200\n",
      "1395/1395 [==============================] - 1s 822us/step - loss: 0.2970 - acc: 0.9161\n",
      "Epoch 183/200\n",
      "1395/1395 [==============================] - 1s 880us/step - loss: 0.3005 - acc: 0.9219\n",
      "Epoch 184/200\n",
      "1395/1395 [==============================] - 1s 811us/step - loss: 0.2783 - acc: 0.9283\n",
      "Epoch 185/200\n",
      "1395/1395 [==============================] - 1s 933us/step - loss: 0.2726 - acc: 0.9283\n",
      "Epoch 186/200\n",
      "1395/1395 [==============================] - 1s 812us/step - loss: 0.2731 - acc: 0.9276\n",
      "Epoch 187/200\n",
      "1395/1395 [==============================] - 1s 873us/step - loss: 0.2731 - acc: 0.9305\n",
      "Epoch 188/200\n",
      "1395/1395 [==============================] - 1s 834us/step - loss: 0.2913 - acc: 0.9240\n",
      "Epoch 189/200\n",
      "1395/1395 [==============================] - 1s 859us/step - loss: 0.2836 - acc: 0.9240\n",
      "Epoch 190/200\n",
      "1395/1395 [==============================] - 1s 906us/step - loss: 0.2848 - acc: 0.9219\n",
      "Epoch 191/200\n",
      "1395/1395 [==============================] - 1s 803us/step - loss: 0.2807 - acc: 0.9240\n",
      "Epoch 192/200\n",
      "1395/1395 [==============================] - 1s 851us/step - loss: 0.2814 - acc: 0.9276\n",
      "Epoch 193/200\n",
      "1395/1395 [==============================] - 1s 793us/step - loss: 0.2764 - acc: 0.9247\n",
      "Epoch 194/200\n",
      "1395/1395 [==============================] - 1s 865us/step - loss: 0.3420 - acc: 0.9104\n",
      "Epoch 195/200\n",
      "1395/1395 [==============================] - 1s 818us/step - loss: 0.2988 - acc: 0.9219\n",
      "Epoch 196/200\n",
      "1395/1395 [==============================] - 1s 880us/step - loss: 0.3784 - acc: 0.8903\n",
      "Epoch 197/200\n",
      "1395/1395 [==============================] - 1s 847us/step - loss: 0.3162 - acc: 0.9190\n",
      "Epoch 198/200\n",
      "1395/1395 [==============================] - 1s 904us/step - loss: 0.3077 - acc: 0.9211\n",
      "Epoch 199/200\n",
      "1395/1395 [==============================] - 2s 1ms/step - loss: 0.3035 - acc: 0.9219\n",
      "Epoch 200/200\n",
      "1395/1395 [==============================] - 1s 912us/step - loss: 0.2715 - acc: 0.9333\n"
     ]
    },
    {
     "data": {
      "text/plain": [
       "<keras.callbacks.History at 0x7faca53e35f8>"
      ]
     },
     "execution_count": 332,
     "metadata": {},
     "output_type": "execute_result"
    }
   ],
   "source": [
    "model.fit(X_train, y_train)"
   ]
  },
  {
   "cell_type": "code",
   "execution_count": 333,
   "metadata": {},
   "outputs": [
    {
     "name": "stdout",
     "output_type": "stream",
     "text": [
      "599/599 [==============================] - 1s 1ms/step\n"
     ]
    }
   ],
   "source": [
    "y_pred = model.predict(X_test)"
   ]
  },
  {
   "cell_type": "code",
   "execution_count": 334,
   "metadata": {},
   "outputs": [
    {
     "name": "stdout",
     "output_type": "stream",
     "text": [
      "0.8497495826377296\n"
     ]
    }
   ],
   "source": [
    "print(accuracy_score(y_pred, y_test_))"
   ]
  },
  {
   "cell_type": "code",
   "execution_count": null,
   "metadata": {},
   "outputs": [],
   "source": []
  },
  {
   "cell_type": "code",
   "execution_count": null,
   "metadata": {},
   "outputs": [],
   "source": []
  }
 ],
 "metadata": {
  "kernelspec": {
   "display_name": "Python 3",
   "language": "python",
   "name": "python3"
  },
  "language_info": {
   "codemirror_mode": {
    "name": "ipython",
    "version": 3
   },
   "file_extension": ".py",
   "mimetype": "text/x-python",
   "name": "python",
   "nbconvert_exporter": "python",
   "pygments_lexer": "ipython3",
   "version": "3.6.6"
  }
 },
 "nbformat": 4,
 "nbformat_minor": 2
}
