{
 "cells": [
  {
   "cell_type": "markdown",
   "metadata": {},
   "source": [
    "# It was a long way, but we just began..."
   ]
  },
  {
   "cell_type": "markdown",
   "metadata": {},
   "source": [
    "# Thank:"
   ]
  },
  {
   "cell_type": "markdown",
   "metadata": {},
   "source": [
    "## Universe!"
   ]
  },
  {
   "cell_type": "markdown",
   "metadata": {},
   "source": [
    "- Majid Bahrami\n",
    "- Golshan Ejlali\n",
    "- Fatemeh Ghaffari\n",
    "- Ms. Babanzadeh\n",
    "- Ms. Jam\n",
    "- Mr. Aliabadi\n",
    "- Mr. ZareEi\n",
    "- All of the 6th floor members"
   ]
  },
  {
   "cell_type": "markdown",
   "metadata": {},
   "source": [
    "# And special thanks:"
   ]
  },
  {
   "cell_type": "markdown",
   "metadata": {},
   "source": [
    "\n",
    "### Dr. Yasaman Farzan <yasaman@theory.ipm.ac.ir>\n",
    "### Dr. Habib G. Khosroshahi <habib@ipm.ir>\n",
    "\n",
    "### Ms. Sanaz Karpour <karpour@ipm.ir>\n",
    "### Ms. Tahereh Hamedi <hamedi@ipm.ir>"
   ]
  },
  {
   "cell_type": "code",
   "execution_count": null,
   "metadata": {},
   "outputs": [],
   "source": []
  },
  {
   "cell_type": "code",
   "execution_count": null,
   "metadata": {},
   "outputs": [],
   "source": []
  },
  {
   "cell_type": "markdown",
   "metadata": {},
   "source": [
    "# THE END (of this serries)! "
   ]
  },
  {
   "cell_type": "markdown",
   "metadata": {},
   "source": [
    "![](./data/majid.png)"
   ]
  }
 ],
 "metadata": {
  "kernelspec": {
   "display_name": "Python 3",
   "language": "python",
   "name": "python3"
  },
  "language_info": {
   "codemirror_mode": {
    "name": "ipython",
    "version": 3
   },
   "file_extension": ".py",
   "mimetype": "text/x-python",
   "name": "python",
   "nbconvert_exporter": "python",
   "pygments_lexer": "ipython3",
   "version": "3.6.6"
  }
 },
 "nbformat": 4,
 "nbformat_minor": 2
}
