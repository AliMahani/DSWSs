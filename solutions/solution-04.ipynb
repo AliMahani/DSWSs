{
 "cells": [
  {
   "cell_type": "code",
   "execution_count": 1,
   "metadata": {},
   "outputs": [],
   "source": [
    "%matplotlib inline\n",
    "\n",
    "import numpy as np\n",
    "import pandas as pd\n",
    "import pylab as plt"
   ]
  },
  {
   "cell_type": "markdown",
   "metadata": {},
   "source": [
    "### Question 1"
   ]
  },
  {
   "cell_type": "code",
   "execution_count": 2,
   "metadata": {},
   "outputs": [
    {
     "name": "stdout",
     "output_type": "stream",
     "text": [
      "0.3297\n"
     ]
    }
   ],
   "source": [
    "ntry = 10000\n",
    "\n",
    "ntot = 0\n",
    "n_bw = 0\n",
    "for _ in range(ntry):\n",
    "    \n",
    "    the_door = np.random.randint(3)\n",
    "    bob_1 = np.random.randint(3)\n",
    "    \n",
    "    ntot += 1\n",
    "    if the_door==bob_1:\n",
    "        n_bw += 1\n",
    "        \n",
    "print(n_bw/ntot)"
   ]
  },
  {
   "cell_type": "code",
   "execution_count": 3,
   "metadata": {},
   "outputs": [
    {
     "name": "stdout",
     "output_type": "stream",
     "text": [
      "0.6745\n"
     ]
    }
   ],
   "source": [
    "ntry = 10000\n",
    "\n",
    "ntot = 0\n",
    "n_aw = 0\n",
    "for _ in range(ntry):\n",
    "    \n",
    "    the_door = np.random.randint(3)\n",
    "    alice_1 = np.random.randint(3)\n",
    "    \n",
    "    choices = [0,1,2]\n",
    "    ch_new = [0,1,2]\n",
    "    ch_0 = [0,1,2]\n",
    "    ch_new.remove(alice_1)\n",
    "    ch_0.remove(alice_1)\n",
    "    if the_door in ch_0:\n",
    "        ch_0.remove(the_door)\n",
    "    igdoor = np.random.choice(ch_0)\n",
    "    ch_new.remove(igdoor)\n",
    "    alice_2 = ch_new[0]\n",
    "    ntot += 1\n",
    "    if the_door==alice_2:\n",
    "        n_aw += 1\n",
    "        \n",
    "print(n_aw/ntot)"
   ]
  },
  {
   "cell_type": "markdown",
   "metadata": {},
   "source": [
    "### Question 2"
   ]
  },
  {
   "cell_type": "code",
   "execution_count": 4,
   "metadata": {},
   "outputs": [],
   "source": [
    "data = pd.read_csv('./datasets/UN_cleaned.csv')"
   ]
  },
  {
   "cell_type": "code",
   "execution_count": 5,
   "metadata": {},
   "outputs": [
    {
     "data": {
      "text/html": [
       "<div>\n",
       "<style scoped>\n",
       "    .dataframe tbody tr th:only-of-type {\n",
       "        vertical-align: middle;\n",
       "    }\n",
       "\n",
       "    .dataframe tbody tr th {\n",
       "        vertical-align: top;\n",
       "    }\n",
       "\n",
       "    .dataframe thead th {\n",
       "        text-align: right;\n",
       "    }\n",
       "</style>\n",
       "<table border=\"1\" class=\"dataframe\">\n",
       "  <thead>\n",
       "    <tr style=\"text-align: right;\">\n",
       "      <th></th>\n",
       "      <th>Unnamed: 0</th>\n",
       "      <th>country</th>\n",
       "      <th>Year</th>\n",
       "      <th>internetusage</th>\n",
       "      <th>CPIG</th>\n",
       "      <th>CPIF</th>\n",
       "      <th>Imports</th>\n",
       "      <th>Exports</th>\n",
       "      <th>homicide</th>\n",
       "      <th>migrants</th>\n",
       "      <th>GDP</th>\n",
       "      <th>PPP</th>\n",
       "      <th>tourexp</th>\n",
       "      <th>tvarrival</th>\n",
       "      <th>education</th>\n",
       "      <th>Manufacturing</th>\n",
       "    </tr>\n",
       "  </thead>\n",
       "  <tbody>\n",
       "    <tr>\n",
       "      <th>0</th>\n",
       "      <td>0</td>\n",
       "      <td>Armenia</td>\n",
       "      <td>2010</td>\n",
       "      <td>25.0</td>\n",
       "      <td>100.0</td>\n",
       "      <td>100.0</td>\n",
       "      <td>3782</td>\n",
       "      <td>1011</td>\n",
       "      <td>1.9</td>\n",
       "      <td>7.7</td>\n",
       "      <td>9875</td>\n",
       "      <td>3432</td>\n",
       "      <td>694</td>\n",
       "      <td>684</td>\n",
       "      <td>12.4005</td>\n",
       "      <td>101.7</td>\n",
       "    </tr>\n",
       "    <tr>\n",
       "      <th>1</th>\n",
       "      <td>1</td>\n",
       "      <td>Australia</td>\n",
       "      <td>2010</td>\n",
       "      <td>76.0</td>\n",
       "      <td>100.0</td>\n",
       "      <td>100.0</td>\n",
       "      <td>201703</td>\n",
       "      <td>212109</td>\n",
       "      <td>1.0</td>\n",
       "      <td>26.6</td>\n",
       "      <td>1297259</td>\n",
       "      <td>58646</td>\n",
       "      <td>31064</td>\n",
       "      <td>5790</td>\n",
       "      <td>14.3276</td>\n",
       "      <td>100.5</td>\n",
       "    </tr>\n",
       "    <tr>\n",
       "      <th>2</th>\n",
       "      <td>2</td>\n",
       "      <td>Austria</td>\n",
       "      <td>2010</td>\n",
       "      <td>75.2</td>\n",
       "      <td>100.0</td>\n",
       "      <td>100.0</td>\n",
       "      <td>150593</td>\n",
       "      <td>144882</td>\n",
       "      <td>0.7</td>\n",
       "      <td>15.2</td>\n",
       "      <td>391893</td>\n",
       "      <td>46599</td>\n",
       "      <td>18758</td>\n",
       "      <td>22004</td>\n",
       "      <td>10.7891</td>\n",
       "      <td>108.1</td>\n",
       "    </tr>\n",
       "    <tr>\n",
       "      <th>3</th>\n",
       "      <td>3</td>\n",
       "      <td>Azerbaijan</td>\n",
       "      <td>2010</td>\n",
       "      <td>46.0</td>\n",
       "      <td>100.0</td>\n",
       "      <td>100.0</td>\n",
       "      <td>6597</td>\n",
       "      <td>21278</td>\n",
       "      <td>2.3</td>\n",
       "      <td>3.1</td>\n",
       "      <td>52906</td>\n",
       "      <td>5857</td>\n",
       "      <td>792</td>\n",
       "      <td>1280</td>\n",
       "      <td>8.7008</td>\n",
       "      <td>123.5</td>\n",
       "    </tr>\n",
       "    <tr>\n",
       "      <th>4</th>\n",
       "      <td>4</td>\n",
       "      <td>Belarus</td>\n",
       "      <td>2010</td>\n",
       "      <td>31.8</td>\n",
       "      <td>100.0</td>\n",
       "      <td>100.0</td>\n",
       "      <td>34884</td>\n",
       "      <td>25283</td>\n",
       "      <td>4.2</td>\n",
       "      <td>11.5</td>\n",
       "      <td>57232</td>\n",
       "      <td>6042</td>\n",
       "      <td>665</td>\n",
       "      <td>119</td>\n",
       "      <td>11.7781</td>\n",
       "      <td>150.6</td>\n",
       "    </tr>\n",
       "  </tbody>\n",
       "</table>\n",
       "</div>"
      ],
      "text/plain": [
       "   Unnamed: 0     country  Year  internetusage   CPIG   CPIF  Imports  \\\n",
       "0           0     Armenia  2010           25.0  100.0  100.0     3782   \n",
       "1           1   Australia  2010           76.0  100.0  100.0   201703   \n",
       "2           2     Austria  2010           75.2  100.0  100.0   150593   \n",
       "3           3  Azerbaijan  2010           46.0  100.0  100.0     6597   \n",
       "4           4     Belarus  2010           31.8  100.0  100.0    34884   \n",
       "\n",
       "   Exports  homicide  migrants      GDP    PPP  tourexp  tvarrival  education  \\\n",
       "0     1011       1.9       7.7     9875   3432      694        684    12.4005   \n",
       "1   212109       1.0      26.6  1297259  58646    31064       5790    14.3276   \n",
       "2   144882       0.7      15.2   391893  46599    18758      22004    10.7891   \n",
       "3    21278       2.3       3.1    52906   5857      792       1280     8.7008   \n",
       "4    25283       4.2      11.5    57232   6042      665        119    11.7781   \n",
       "\n",
       "   Manufacturing  \n",
       "0          101.7  \n",
       "1          100.5  \n",
       "2          108.1  \n",
       "3          123.5  \n",
       "4          150.6  "
      ]
     },
     "execution_count": 5,
     "metadata": {},
     "output_type": "execute_result"
    }
   ],
   "source": [
    "data.head()"
   ]
  },
  {
   "cell_type": "code",
   "execution_count": 6,
   "metadata": {},
   "outputs": [
    {
     "data": {
      "text/plain": [
       "Index(['Unnamed: 0', 'country', 'Year', 'internetusage', 'CPIG', 'CPIF',\n",
       "       'Imports', 'Exports', 'homicide', 'migrants', 'GDP', 'PPP', 'tourexp',\n",
       "       'tvarrival', 'education', 'Manufacturing'],\n",
       "      dtype='object')"
      ]
     },
     "execution_count": 6,
     "metadata": {},
     "output_type": "execute_result"
    }
   ],
   "source": [
    "data.columns"
   ]
  },
  {
   "cell_type": "code",
   "execution_count": 7,
   "metadata": {},
   "outputs": [],
   "source": [
    "data = data.drop(columns=['Unnamed: 0','country','Year'])"
   ]
  },
  {
   "cell_type": "code",
   "execution_count": 8,
   "metadata": {},
   "outputs": [],
   "source": [
    "cols = data.columns"
   ]
  },
  {
   "cell_type": "code",
   "execution_count": 9,
   "metadata": {},
   "outputs": [
    {
     "data": {
      "text/plain": [
       "-0.017049126806947312"
      ]
     },
     "execution_count": 9,
     "metadata": {},
     "output_type": "execute_result"
    }
   ],
   "source": [
    "c1 = 'internetusage'\n",
    "c2 = 'CPIG'\n",
    "\n",
    "np.corrcoef(x=data[c1].values, y=data[c2].values)[0,1]"
   ]
  },
  {
   "cell_type": "code",
   "execution_count": 15,
   "metadata": {},
   "outputs": [],
   "source": [
    "nn = len(cols)\n",
    "cov = np.zeros((nn,nn))\n",
    "\n",
    "for i in range(nn):\n",
    "    for j in range(i,nn):\n",
    "        cc = np.corrcoef(x=data[cols[i]].values, y=data[cols[j]].values)[0,1]\n",
    "        cov[i,j] = cc\n",
    "        cov[j,i] = cc"
   ]
  },
  {
   "cell_type": "code",
   "execution_count": 16,
   "metadata": {},
   "outputs": [
    {
     "data": {
      "image/png": "[encoded data removed]",
      "text/plain": [
       "<Figure size 432x288 with 1 Axes>"
      ]
     },
     "metadata": {
      "needs_background": "light"
     },
     "output_type": "display_data"
    }
   ],
   "source": [
    "plt.imshow(cov,origin='bottom')\n",
    "plt.xticks(np.arange(len(cols)),cols,rotation=90);\n",
    "plt.yticks(np.arange(len(cols)),cols);"
   ]
  },
  {
   "cell_type": "markdown",
   "metadata": {},
   "source": [
    "Just for check"
   ]
  },
  {
   "cell_type": "code",
   "execution_count": 11,
   "metadata": {},
   "outputs": [
    {
     "name": "stderr",
     "output_type": "stream",
     "text": [
      "/home/gf/packages/anaconda3/lib/python3.6/site-packages/dask/config.py:168: YAMLLoadWarning: calling yaml.load() without Loader=... is deprecated, as the default Loader is unsafe. Please read https://msg.pyyaml.org/load for full details.\n",
      "  data = yaml.load(f.read()) or {}\n"
     ]
    }
   ],
   "source": [
    "from ccgpack import cov_mat"
   ]
  },
  {
   "cell_type": "code",
   "execution_count": 18,
   "metadata": {},
   "outputs": [
    {
     "data": {
      "image/png": "[encoded data removed]",
      "text/plain": [
       "<Figure size 432x288 with 1 Axes>"
      ]
     },
     "metadata": {
      "needs_background": "light"
     },
     "output_type": "display_data"
    }
   ],
   "source": [
    "ddd = data.values\n",
    "ccc = cov_mat(ddd)\n",
    "\n",
    "plt.imshow(ccc,origin='bottom')\n",
    "plt.xticks(np.arange(len(cols)),cols,rotation=90);\n",
    "plt.yticks(np.arange(len(cols)),cols);"
   ]
  },
  {
   "cell_type": "code",
   "execution_count": 20,
   "metadata": {},
   "outputs": [
    {
     "data": {
      "text/plain": [
       "1.3208852097365104e-29"
      ]
     },
     "execution_count": 20,
     "metadata": {},
     "output_type": "execute_result"
    }
   ],
   "source": [
    "np.sum((ccc-cov)**2)"
   ]
  },
  {
   "cell_type": "markdown",
   "metadata": {},
   "source": [
    "### Question 3"
   ]
  },
  {
   "cell_type": "code",
   "execution_count": 91,
   "metadata": {},
   "outputs": [
    {
     "data": {
      "text/plain": [
       "[<matplotlib.lines.Line2D at 0x7fe33534a5f8>]"
      ]
     },
     "execution_count": 91,
     "metadata": {},
     "output_type": "execute_result"
    },
    {
     "data": {
      "image/png": "[encoded data removed]",
      "text/plain": [
       "<Figure size 432x288 with 1 Axes>"
      ]
     },
     "metadata": {
      "needs_background": "light"
     },
     "output_type": "display_data"
    }
   ],
   "source": [
    "data = np.load('./datasets/exercise.npy')\n",
    "x = data[:,0]\n",
    "y = data[:,1]\n",
    "\n",
    "plt.plot(x,y,'r.')"
   ]
  },
  {
   "cell_type": "code",
   "execution_count": 135,
   "metadata": {},
   "outputs": [],
   "source": [
    "def compute_cost(x, y, a, b):\n",
    "    return np.mean((y - a*np.sin(b*x)) ** 2)\n",
    "\n",
    "def update(a, b, x, y , learning_rate):\n",
    "    diff = 0.01\n",
    "    a_gradient = compute_cost(x, y, a+diff, b)-compute_cost(x, y, a, b)\n",
    "    b_gradient = compute_cost(x, y, a, b+diff)-compute_cost(x, y, a, b)\n",
    "    a_gradient /= diff\n",
    "    b_gradient /= diff\n",
    "    a_updated = a - learning_rate * a_gradient\n",
    "    b_updated = b - learning_rate * b_gradient\n",
    "    return a_updated, b_updated\n",
    "\n",
    "def gd_runner(x, y, a0, b0, learning_rate, num_iterations):\n",
    "    a = a0\n",
    "    b = b0\n",
    "    for i in range(num_iterations):\n",
    "        cost = compute_cost(x, y, a, b)\n",
    "        a, b = update(a, b, x, y, learning_rate)\n",
    "#         if i%100==0:\n",
    "#             print(a, b, cost)\n",
    "    return a, b, cost\n"
   ]
  },
  {
   "cell_type": "code",
   "execution_count": 136,
   "metadata": {},
   "outputs": [
    {
     "data": {
      "text/plain": [
       "[<matplotlib.lines.Line2D at 0x7fe3340ec940>]"
      ]
     },
     "execution_count": 136,
     "metadata": {},
     "output_type": "execute_result"
    },
    {
     "data": {
      "image/png": "[encoded data removed]",
      "text/plain": [
       "<Figure size 432x288 with 1 Axes>"
      ]
     },
     "metadata": {
      "needs_background": "light"
     },
     "output_type": "display_data"
    }
   ],
   "source": [
    "#hyperparamters\n",
    "learning_rate = 0.01\n",
    "a0 = 2\n",
    "b0 = 1\n",
    "num_iterations = 2000\n",
    "\n",
    "a, b, cost = gd_runner(x, y, a0, b0, learning_rate, num_iterations)\n",
    "\n",
    "plt.plot(x,y,'r.')\n",
    "plt.plot(x,a*np.sin(b*x),'b--')"
   ]
  },
  {
   "cell_type": "markdown",
   "metadata": {},
   "source": [
    "Or ou can use scipy least square optimizers:"
   ]
  },
  {
   "cell_type": "code",
   "execution_count": 74,
   "metadata": {},
   "outputs": [],
   "source": [
    "from scipy.optimize import least_squares,leastsq"
   ]
  },
  {
   "cell_type": "code",
   "execution_count": 117,
   "metadata": {},
   "outputs": [],
   "source": [
    "def model(x,coefs):\n",
    "    return coefs[0]*np.sin(coefs[1]*x)\n",
    "\n",
    "def loss(coefs, x, y):\n",
    "    return (y - model(x, coefs))**2\n",
    "\n",
    "x0 = np.array([2,1], dtype=float)"
   ]
  },
  {
   "cell_type": "code",
   "execution_count": 118,
   "metadata": {},
   "outputs": [
    {
     "data": {
      "text/plain": [
       "[<matplotlib.lines.Line2D at 0x7fe3352c8cc0>]"
      ]
     },
     "execution_count": 118,
     "metadata": {},
     "output_type": "execute_result"
    },
    {
     "data": {
      "image/png": "[encoded data removed]",
      "text/plain": [
       "<Figure size 432x288 with 1 Axes>"
      ]
     },
     "metadata": {
      "needs_background": "light"
     },
     "output_type": "display_data"
    }
   ],
   "source": [
    "res_lsq = least_squares(loss, x0, args=(x, y))\n",
    "coefs = res_lsq.x\n",
    "\n",
    "plt.plot(x,y,'r.')\n",
    "plt.plot(x,model(x,coefs),'b--')"
   ]
  },
  {
   "cell_type": "code",
   "execution_count": 119,
   "metadata": {},
   "outputs": [
    {
     "data": {
      "text/plain": [
       "[<matplotlib.lines.Line2D at 0x7fe334ea1550>]"
      ]
     },
     "execution_count": 119,
     "metadata": {},
     "output_type": "execute_result"
    },
    {
     "data": {
      "image/png": "[encoded data removed]",
      "text/plain": [
       "<Figure size 432x288 with 1 Axes>"
      ]
     },
     "metadata": {
      "needs_background": "light"
     },
     "output_type": "display_data"
    }
   ],
   "source": [
    "coefs, flag = leastsq(loss, x0, args=(x,y))\n",
    "\n",
    "plt.plot(x,y,'r.')\n",
    "plt.plot(x,model(x,coefs),'b--')"
   ]
  },
  {
   "cell_type": "code",
   "execution_count": null,
   "metadata": {},
   "outputs": [],
   "source": []
  }
 ],
 "metadata": {
  "kernelspec": {
   "display_name": "Python 3",
   "language": "python",
   "name": "python3"
  },
  "language_info": {
   "codemirror_mode": {
    "name": "ipython",
    "version": 3
   },
   "file_extension": ".py",
   "mimetype": "text/x-python",
   "name": "python",
   "nbconvert_exporter": "python",
   "pygments_lexer": "ipython3",
   "version": "3.6.6"
  }
 },
 "nbformat": 4,
 "nbformat_minor": 2
}
